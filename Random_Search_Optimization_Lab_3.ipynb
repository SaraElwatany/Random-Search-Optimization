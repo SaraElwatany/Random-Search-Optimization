{
  "nbformat": 4,
  "nbformat_minor": 0,
  "metadata": {
    "colab": {
      "provenance": []
    },
    "kernelspec": {
      "name": "python3",
      "display_name": "Python 3"
    },
    "language_info": {
      "name": "python"
    }
  },
  "cells": [
    {
      "cell_type": "code",
      "source": [
        "import math\n",
        "import copy\n",
        "import random\n",
        "import functools\n",
        "import numpy as np\n",
        "import pandas as pd\n",
        "from pprint import pprint\n",
        "import matplotlib.pyplot as plt"
      ],
      "metadata": {
        "id": "s3gnhKUoN-wX"
      },
      "execution_count": 785,
      "outputs": []
    },
    {
      "cell_type": "code",
      "execution_count": 786,
      "metadata": {
        "id": "rCxf4JAuLbdn"
      },
      "outputs": [],
      "source": [
        "# Define the blueprint of the city object (gene)\n",
        "class city:\n",
        "\n",
        "  def __init__(self, name, x, y):\n",
        "    self._name = name\n",
        "    self._x = x\n",
        "    self._y = y\n",
        "    self._visited = False\n",
        "\n",
        "  @property\n",
        "  def name(self):\n",
        "    return self._name\n",
        "\n",
        "  @name.setter\n",
        "  def name(self, name):\n",
        "    self._name = name\n",
        "\n",
        "\n",
        "  @property\n",
        "  def x(self):\n",
        "    return self._x\n",
        "\n",
        "  @x.setter\n",
        "  def x(self, x):\n",
        "    self._x = x\n",
        "\n",
        "\n",
        "  @property\n",
        "  def y(self):\n",
        "    return self._y\n",
        "\n",
        "  @y.setter\n",
        "  def y(self, y):\n",
        "    self._y = y\n",
        "\n",
        "\n",
        "  @property\n",
        "  def visited(self):\n",
        "    return self._visited\n",
        "\n",
        "  @visited.setter\n",
        "  def visited(self, visited):\n",
        "    self._visited = visited"
      ]
    },
    {
      "cell_type": "code",
      "source": [
        "# Define the blueprint of the path object\n",
        "class path:\n",
        "\n",
        "  def __init__(self, fitness, cost=0.0, cities=[]):\n",
        "    self._cities = cities\n",
        "    self._fitness = fitness\n",
        "    self._cost = cost\n",
        "\n",
        "  @property\n",
        "  def fitness(self):\n",
        "    return self._fitness\n",
        "\n",
        "\n",
        "  @fitness.setter\n",
        "  def fitness(self, fitness):\n",
        "    self._fitness = fitness\n",
        "\n",
        "\n",
        "  @property\n",
        "  def cost(self):\n",
        "    return self._cost\n",
        "\n",
        "\n",
        "  @cost.setter\n",
        "  def cost(self, cost):\n",
        "    self._cost = cost\n",
        "\n",
        "\n",
        "  @property\n",
        "  def cities(self):\n",
        "    return self._cities\n",
        "\n",
        "\n",
        "  @cities.setter\n",
        "  def genes(self, cities):\n",
        "    self._cities = cities"
      ],
      "metadata": {
        "id": "tvfgRFeg7eOB"
      },
      "execution_count": 787,
      "outputs": []
    },
    {
      "cell_type": "markdown",
      "source": [
        "## **1. Reading the Data**"
      ],
      "metadata": {
        "id": "3OE9-ktYONNx"
      }
    },
    {
      "cell_type": "code",
      "source": [
        "df = pd.read_csv(\"/content/Data set CSV.csv\")"
      ],
      "metadata": {
        "id": "pYEHY27nMMjt"
      },
      "execution_count": 788,
      "outputs": []
    },
    {
      "cell_type": "code",
      "source": [
        "df.head()"
      ],
      "metadata": {
        "colab": {
          "base_uri": "https://localhost:8080/",
          "height": 206
        },
        "id": "IvGN7We7OFI-",
        "outputId": "bb692d63-271a-4d43-9d73-8327ec03a611"
      },
      "execution_count": 789,
      "outputs": [
        {
          "output_type": "execute_result",
          "data": {
            "text/plain": [
              "   City             x             y\n",
              "0     1  5.500000e-08  9.860000e-09\n",
              "1     2 -2.887330e+01 -7.980000e-08\n",
              "2     3 -7.929160e+01 -2.140330e+01\n",
              "3     4 -1.465770e+01 -4.338960e+01\n",
              "4     5 -6.474730e+01  2.189820e+01"
            ],
            "text/html": [
              "\n",
              "  <div id=\"df-04bcfaa3-da87-480a-be34-239fc571aed5\" class=\"colab-df-container\">\n",
              "    <div>\n",
              "<style scoped>\n",
              "    .dataframe tbody tr th:only-of-type {\n",
              "        vertical-align: middle;\n",
              "    }\n",
              "\n",
              "    .dataframe tbody tr th {\n",
              "        vertical-align: top;\n",
              "    }\n",
              "\n",
              "    .dataframe thead th {\n",
              "        text-align: right;\n",
              "    }\n",
              "</style>\n",
              "<table border=\"1\" class=\"dataframe\">\n",
              "  <thead>\n",
              "    <tr style=\"text-align: right;\">\n",
              "      <th></th>\n",
              "      <th>City</th>\n",
              "      <th>x</th>\n",
              "      <th>y</th>\n",
              "    </tr>\n",
              "  </thead>\n",
              "  <tbody>\n",
              "    <tr>\n",
              "      <th>0</th>\n",
              "      <td>1</td>\n",
              "      <td>5.500000e-08</td>\n",
              "      <td>9.860000e-09</td>\n",
              "    </tr>\n",
              "    <tr>\n",
              "      <th>1</th>\n",
              "      <td>2</td>\n",
              "      <td>-2.887330e+01</td>\n",
              "      <td>-7.980000e-08</td>\n",
              "    </tr>\n",
              "    <tr>\n",
              "      <th>2</th>\n",
              "      <td>3</td>\n",
              "      <td>-7.929160e+01</td>\n",
              "      <td>-2.140330e+01</td>\n",
              "    </tr>\n",
              "    <tr>\n",
              "      <th>3</th>\n",
              "      <td>4</td>\n",
              "      <td>-1.465770e+01</td>\n",
              "      <td>-4.338960e+01</td>\n",
              "    </tr>\n",
              "    <tr>\n",
              "      <th>4</th>\n",
              "      <td>5</td>\n",
              "      <td>-6.474730e+01</td>\n",
              "      <td>2.189820e+01</td>\n",
              "    </tr>\n",
              "  </tbody>\n",
              "</table>\n",
              "</div>\n",
              "    <div class=\"colab-df-buttons\">\n",
              "\n",
              "  <div class=\"colab-df-container\">\n",
              "    <button class=\"colab-df-convert\" onclick=\"convertToInteractive('df-04bcfaa3-da87-480a-be34-239fc571aed5')\"\n",
              "            title=\"Convert this dataframe to an interactive table.\"\n",
              "            style=\"display:none;\">\n",
              "\n",
              "  <svg xmlns=\"http://www.w3.org/2000/svg\" height=\"24px\" viewBox=\"0 -960 960 960\">\n",
              "    <path d=\"M120-120v-720h720v720H120Zm60-500h600v-160H180v160Zm220 220h160v-160H400v160Zm0 220h160v-160H400v160ZM180-400h160v-160H180v160Zm440 0h160v-160H620v160ZM180-180h160v-160H180v160Zm440 0h160v-160H620v160Z\"/>\n",
              "  </svg>\n",
              "    </button>\n",
              "\n",
              "  <style>\n",
              "    .colab-df-container {\n",
              "      display:flex;\n",
              "      gap: 12px;\n",
              "    }\n",
              "\n",
              "    .colab-df-convert {\n",
              "      background-color: #E8F0FE;\n",
              "      border: none;\n",
              "      border-radius: 50%;\n",
              "      cursor: pointer;\n",
              "      display: none;\n",
              "      fill: #1967D2;\n",
              "      height: 32px;\n",
              "      padding: 0 0 0 0;\n",
              "      width: 32px;\n",
              "    }\n",
              "\n",
              "    .colab-df-convert:hover {\n",
              "      background-color: #E2EBFA;\n",
              "      box-shadow: 0px 1px 2px rgba(60, 64, 67, 0.3), 0px 1px 3px 1px rgba(60, 64, 67, 0.15);\n",
              "      fill: #174EA6;\n",
              "    }\n",
              "\n",
              "    .colab-df-buttons div {\n",
              "      margin-bottom: 4px;\n",
              "    }\n",
              "\n",
              "    [theme=dark] .colab-df-convert {\n",
              "      background-color: #3B4455;\n",
              "      fill: #D2E3FC;\n",
              "    }\n",
              "\n",
              "    [theme=dark] .colab-df-convert:hover {\n",
              "      background-color: #434B5C;\n",
              "      box-shadow: 0px 1px 3px 1px rgba(0, 0, 0, 0.15);\n",
              "      filter: drop-shadow(0px 1px 2px rgba(0, 0, 0, 0.3));\n",
              "      fill: #FFFFFF;\n",
              "    }\n",
              "  </style>\n",
              "\n",
              "    <script>\n",
              "      const buttonEl =\n",
              "        document.querySelector('#df-04bcfaa3-da87-480a-be34-239fc571aed5 button.colab-df-convert');\n",
              "      buttonEl.style.display =\n",
              "        google.colab.kernel.accessAllowed ? 'block' : 'none';\n",
              "\n",
              "      async function convertToInteractive(key) {\n",
              "        const element = document.querySelector('#df-04bcfaa3-da87-480a-be34-239fc571aed5');\n",
              "        const dataTable =\n",
              "          await google.colab.kernel.invokeFunction('convertToInteractive',\n",
              "                                                    [key], {});\n",
              "        if (!dataTable) return;\n",
              "\n",
              "        const docLinkHtml = 'Like what you see? Visit the ' +\n",
              "          '<a target=\"_blank\" href=https://colab.research.google.com/notebooks/data_table.ipynb>data table notebook</a>'\n",
              "          + ' to learn more about interactive tables.';\n",
              "        element.innerHTML = '';\n",
              "        dataTable['output_type'] = 'display_data';\n",
              "        await google.colab.output.renderOutput(dataTable, element);\n",
              "        const docLink = document.createElement('div');\n",
              "        docLink.innerHTML = docLinkHtml;\n",
              "        element.appendChild(docLink);\n",
              "      }\n",
              "    </script>\n",
              "  </div>\n",
              "\n",
              "\n",
              "<div id=\"df-9f3326eb-4229-47b6-b181-3f37330835d1\">\n",
              "  <button class=\"colab-df-quickchart\" onclick=\"quickchart('df-9f3326eb-4229-47b6-b181-3f37330835d1')\"\n",
              "            title=\"Suggest charts\"\n",
              "            style=\"display:none;\">\n",
              "\n",
              "<svg xmlns=\"http://www.w3.org/2000/svg\" height=\"24px\"viewBox=\"0 0 24 24\"\n",
              "     width=\"24px\">\n",
              "    <g>\n",
              "        <path d=\"M19 3H5c-1.1 0-2 .9-2 2v14c0 1.1.9 2 2 2h14c1.1 0 2-.9 2-2V5c0-1.1-.9-2-2-2zM9 17H7v-7h2v7zm4 0h-2V7h2v10zm4 0h-2v-4h2v4z\"/>\n",
              "    </g>\n",
              "</svg>\n",
              "  </button>\n",
              "\n",
              "<style>\n",
              "  .colab-df-quickchart {\n",
              "      --bg-color: #E8F0FE;\n",
              "      --fill-color: #1967D2;\n",
              "      --hover-bg-color: #E2EBFA;\n",
              "      --hover-fill-color: #174EA6;\n",
              "      --disabled-fill-color: #AAA;\n",
              "      --disabled-bg-color: #DDD;\n",
              "  }\n",
              "\n",
              "  [theme=dark] .colab-df-quickchart {\n",
              "      --bg-color: #3B4455;\n",
              "      --fill-color: #D2E3FC;\n",
              "      --hover-bg-color: #434B5C;\n",
              "      --hover-fill-color: #FFFFFF;\n",
              "      --disabled-bg-color: #3B4455;\n",
              "      --disabled-fill-color: #666;\n",
              "  }\n",
              "\n",
              "  .colab-df-quickchart {\n",
              "    background-color: var(--bg-color);\n",
              "    border: none;\n",
              "    border-radius: 50%;\n",
              "    cursor: pointer;\n",
              "    display: none;\n",
              "    fill: var(--fill-color);\n",
              "    height: 32px;\n",
              "    padding: 0;\n",
              "    width: 32px;\n",
              "  }\n",
              "\n",
              "  .colab-df-quickchart:hover {\n",
              "    background-color: var(--hover-bg-color);\n",
              "    box-shadow: 0 1px 2px rgba(60, 64, 67, 0.3), 0 1px 3px 1px rgba(60, 64, 67, 0.15);\n",
              "    fill: var(--button-hover-fill-color);\n",
              "  }\n",
              "\n",
              "  .colab-df-quickchart-complete:disabled,\n",
              "  .colab-df-quickchart-complete:disabled:hover {\n",
              "    background-color: var(--disabled-bg-color);\n",
              "    fill: var(--disabled-fill-color);\n",
              "    box-shadow: none;\n",
              "  }\n",
              "\n",
              "  .colab-df-spinner {\n",
              "    border: 2px solid var(--fill-color);\n",
              "    border-color: transparent;\n",
              "    border-bottom-color: var(--fill-color);\n",
              "    animation:\n",
              "      spin 1s steps(1) infinite;\n",
              "  }\n",
              "\n",
              "  @keyframes spin {\n",
              "    0% {\n",
              "      border-color: transparent;\n",
              "      border-bottom-color: var(--fill-color);\n",
              "      border-left-color: var(--fill-color);\n",
              "    }\n",
              "    20% {\n",
              "      border-color: transparent;\n",
              "      border-left-color: var(--fill-color);\n",
              "      border-top-color: var(--fill-color);\n",
              "    }\n",
              "    30% {\n",
              "      border-color: transparent;\n",
              "      border-left-color: var(--fill-color);\n",
              "      border-top-color: var(--fill-color);\n",
              "      border-right-color: var(--fill-color);\n",
              "    }\n",
              "    40% {\n",
              "      border-color: transparent;\n",
              "      border-right-color: var(--fill-color);\n",
              "      border-top-color: var(--fill-color);\n",
              "    }\n",
              "    60% {\n",
              "      border-color: transparent;\n",
              "      border-right-color: var(--fill-color);\n",
              "    }\n",
              "    80% {\n",
              "      border-color: transparent;\n",
              "      border-right-color: var(--fill-color);\n",
              "      border-bottom-color: var(--fill-color);\n",
              "    }\n",
              "    90% {\n",
              "      border-color: transparent;\n",
              "      border-bottom-color: var(--fill-color);\n",
              "    }\n",
              "  }\n",
              "</style>\n",
              "\n",
              "  <script>\n",
              "    async function quickchart(key) {\n",
              "      const quickchartButtonEl =\n",
              "        document.querySelector('#' + key + ' button');\n",
              "      quickchartButtonEl.disabled = true;  // To prevent multiple clicks.\n",
              "      quickchartButtonEl.classList.add('colab-df-spinner');\n",
              "      try {\n",
              "        const charts = await google.colab.kernel.invokeFunction(\n",
              "            'suggestCharts', [key], {});\n",
              "      } catch (error) {\n",
              "        console.error('Error during call to suggestCharts:', error);\n",
              "      }\n",
              "      quickchartButtonEl.classList.remove('colab-df-spinner');\n",
              "      quickchartButtonEl.classList.add('colab-df-quickchart-complete');\n",
              "    }\n",
              "    (() => {\n",
              "      let quickchartButtonEl =\n",
              "        document.querySelector('#df-9f3326eb-4229-47b6-b181-3f37330835d1 button');\n",
              "      quickchartButtonEl.style.display =\n",
              "        google.colab.kernel.accessAllowed ? 'block' : 'none';\n",
              "    })();\n",
              "  </script>\n",
              "</div>\n",
              "\n",
              "    </div>\n",
              "  </div>\n"
            ],
            "application/vnd.google.colaboratory.intrinsic+json": {
              "type": "dataframe",
              "variable_name": "df",
              "summary": "{\n  \"name\": \"df\",\n  \"rows\": 15,\n  \"fields\": [\n    {\n      \"column\": \"City\",\n      \"properties\": {\n        \"dtype\": \"number\",\n        \"std\": 4,\n        \"min\": 1,\n        \"max\": 15,\n        \"num_unique_values\": 15,\n        \"samples\": [\n          10,\n          12,\n          1\n        ],\n        \"semantic_type\": \"\",\n        \"description\": \"\"\n      }\n    },\n    {\n      \"column\": \"x\",\n      \"properties\": {\n        \"dtype\": \"number\",\n        \"std\": 25.037090691331848,\n        \"min\": -79.2916,\n        \"max\": 5.5e-08,\n        \"num_unique_values\": 15,\n        \"samples\": [\n          -50.5859,\n          -65.0866,\n          5.5e-08\n        ],\n        \"semantic_type\": \"\",\n        \"description\": \"\"\n      }\n    },\n    {\n      \"column\": \"y\",\n      \"properties\": {\n        \"dtype\": \"number\",\n        \"std\": 22.44882467037034,\n        \"min\": -43.3896,\n        \"max\": 21.8982,\n        \"num_unique_values\": 15,\n        \"samples\": [\n          -21.5882,\n          -36.0625,\n          9.86e-09\n        ],\n        \"semantic_type\": \"\",\n        \"description\": \"\"\n      }\n    }\n  ]\n}"
            }
          },
          "metadata": {},
          "execution_count": 789
        }
      ]
    },
    {
      "cell_type": "code",
      "source": [
        "df.info()"
      ],
      "metadata": {
        "colab": {
          "base_uri": "https://localhost:8080/"
        },
        "id": "nMO0tDE1OGMQ",
        "outputId": "d98ce2ad-5737-4c54-a32a-3569c73b080d"
      },
      "execution_count": 790,
      "outputs": [
        {
          "output_type": "stream",
          "name": "stdout",
          "text": [
            "<class 'pandas.core.frame.DataFrame'>\n",
            "RangeIndex: 15 entries, 0 to 14\n",
            "Data columns (total 3 columns):\n",
            " #   Column  Non-Null Count  Dtype  \n",
            "---  ------  --------------  -----  \n",
            " 0   City    15 non-null     int64  \n",
            " 1   x       15 non-null     float64\n",
            " 2   y       15 non-null     float64\n",
            "dtypes: float64(2), int64(1)\n",
            "memory usage: 492.0 bytes\n"
          ]
        }
      ]
    },
    {
      "cell_type": "markdown",
      "source": [
        "## **2. Mapping the Data To Objects**"
      ],
      "metadata": {
        "id": "qBEHTAXzOTd1"
      }
    },
    {
      "cell_type": "code",
      "source": [
        "cities_objects = []     # Initialize an empty cities list\n",
        "\n",
        "# Iterate through each row (city data) in the dataframe\n",
        "for index, row in df.iterrows():\n",
        "  x, y = row['x'], row['y']         # Get city coordinates\n",
        "  name = row['City']                # Get city name\n",
        "  city_obj = city(name, x, y)       # Create city object from the data\n",
        "  cities_objects.append(city_obj)   # Append the city object to the cities"
      ],
      "metadata": {
        "id": "vSfQbdz5OHR6"
      },
      "execution_count": 791,
      "outputs": []
    },
    {
      "cell_type": "code",
      "source": [
        "cities_objects"
      ],
      "metadata": {
        "colab": {
          "base_uri": "https://localhost:8080/"
        },
        "id": "lZiOy_oTPp3Z",
        "outputId": "0d6f0a1f-0e3e-40a9-9de7-e0b22a096ce2"
      },
      "execution_count": 792,
      "outputs": [
        {
          "output_type": "execute_result",
          "data": {
            "text/plain": [
              "[<__main__.city at 0x792463715f50>,\n",
              " <__main__.city at 0x792461681d90>,\n",
              " <__main__.city at 0x792463716410>,\n",
              " <__main__.city at 0x792461682150>,\n",
              " <__main__.city at 0x7924637168d0>,\n",
              " <__main__.city at 0x792461680dd0>,\n",
              " <__main__.city at 0x792463717fd0>,\n",
              " <__main__.city at 0x792463716cd0>,\n",
              " <__main__.city at 0x792463716d90>,\n",
              " <__main__.city at 0x792463714bd0>,\n",
              " <__main__.city at 0x792463716190>,\n",
              " <__main__.city at 0x7924637174d0>,\n",
              " <__main__.city at 0x792463717d90>,\n",
              " <__main__.city at 0x792463717050>,\n",
              " <__main__.city at 0x792463715890>]"
            ]
          },
          "metadata": {},
          "execution_count": 792
        }
      ]
    },
    {
      "cell_type": "markdown",
      "source": [
        "## **3. Get Euclidean Distance Between 2 Cities**"
      ],
      "metadata": {
        "id": "lg1um3sr92Im"
      }
    },
    {
      "cell_type": "code",
      "source": [
        "def get_euc_dist(city_1, city_2):\n",
        "  '''\n",
        "  Function To get the euclidean (shortest) distance between 2 cities.\n",
        "\n",
        "    Args:\n",
        "      city_1 (city) : Source City.\n",
        "      city_2 (city) : Distination City.\n",
        "\n",
        "    Returns:\n",
        "      euc_dist (float) : The shortest distance between both cities (euclidean distance).\n",
        "  '''\n",
        "\n",
        "  euc_dist = np.sqrt((city_1.x - city_2.x)**2 + (city_1.y - city_2.y)**2)\n",
        "\n",
        "  return euc_dist"
      ],
      "metadata": {
        "id": "sxEVSBED99dF"
      },
      "execution_count": 793,
      "outputs": []
    },
    {
      "cell_type": "markdown",
      "source": [
        "## **4. Create The Distance & Initial Pheromone Matrix**"
      ],
      "metadata": {
        "id": "V13XoA6E8ntf"
      }
    },
    {
      "cell_type": "code",
      "source": [
        "def get_distance_matrix(cities_objects):\n",
        "  '''\n",
        "  Function To get the distance matrix, i.e euclidean (shortest) distance between 2 pair of cities.\n",
        "\n",
        "    Args:\n",
        "      cities_objects (list) : List of all cities as city object in our dataframe.\n",
        "\n",
        "    Returns:\n",
        "      distance_matrix (np.array) : The distance matrix between each and other cities.\n",
        "  '''\n",
        "\n",
        "  n_cities = len(cities_objects)\n",
        "  distance_matrix = np.zeros(shape=(n_cities, n_cities))\n",
        "\n",
        "  for city_1 in cities_objects:\n",
        "\n",
        "      for city_2 in cities_objects:\n",
        "\n",
        "         distance_matrix[int(city_1.name)-1][int(city_2.name)-1] = get_euc_dist(city_1, city_2)\n",
        "\n",
        "\n",
        "  return distance_matrix"
      ],
      "metadata": {
        "id": "x9X4DUAg8s4t"
      },
      "execution_count": 794,
      "outputs": []
    },
    {
      "cell_type": "code",
      "source": [
        "def initialize_pheromone_matrix(cities_objects, tau_init) -> np.array :\n",
        "  '''\n",
        "  Function To initialize the pheromone matrix by some value tau_init.\n",
        "\n",
        "    Args:\n",
        "      cities_objects (list) : List of all cities as city object in our dataframe.\n",
        "      tau_init (float) : Initial Pheromone value.\n",
        "\n",
        "    Returns:\n",
        "      pheromone_matrix (np.array) : The matrix with initial pheromone values between each and other cities.\n",
        "  '''\n",
        "\n",
        "  n_cities = len(cities_objects)\n",
        "  pheromone_matrix = np.ones(shape=(n_cities, n_cities)) * tau_init\n",
        "\n",
        "  return pheromone_matrix"
      ],
      "metadata": {
        "id": "GC2LhyB3ljSm"
      },
      "execution_count": 795,
      "outputs": []
    },
    {
      "cell_type": "code",
      "source": [
        "distance_matrix = get_distance_matrix(cities_objects)"
      ],
      "metadata": {
        "id": "EIXSNvWQ-7zS"
      },
      "execution_count": 796,
      "outputs": []
    },
    {
      "cell_type": "code",
      "source": [
        "pheromone_matrix = initialize_pheromone_matrix(cities_objects, tau_init=0.0)"
      ],
      "metadata": {
        "id": "707bWZK5mUxi"
      },
      "execution_count": 797,
      "outputs": []
    },
    {
      "cell_type": "markdown",
      "source": [
        "## **5. Generate the Initial Population (Initialization Phase)**"
      ],
      "metadata": {
        "id": "mUY8uyNIQvDf"
      }
    },
    {
      "cell_type": "code",
      "source": [
        "# Ant Colony Algorithm parameters:\n",
        "population_size = 100\n",
        "n_iterations = 100"
      ],
      "metadata": {
        "id": "ymr3iohJ_npR"
      },
      "execution_count": 798,
      "outputs": []
    },
    {
      "cell_type": "code",
      "source": [
        "def get_cost(path, distance_matrix):\n",
        "  '''\n",
        "  Function To get the cost for a certain path of cities.\n",
        "\n",
        "    Args:\n",
        "      path (list) : List of all cities' names in the path, each city name is casted to integer then decremented by 1.\n",
        "      distance_matrix (np.array) : An array of distance between each and every city in the dataframe, in the shape of (n_cities. n_cities), where n_cities is the number of cities in the dataframe.\n",
        "\n",
        "    Returns:\n",
        "      cost (float): The total cost for the path.\n",
        "  '''\n",
        "\n",
        "  cost = 0\n",
        "\n",
        "  # Get the distance between each 2 consecutive cities\n",
        "  for idx, city_obj in enumerate(path[:-1]):\n",
        "      curr_city, next_city = city_obj, path[idx+1]\n",
        "      cost += distance_matrix[curr_city][next_city]\n",
        "\n",
        "  # Get Distance Between The Last & First City\n",
        "  first_city, last_city = path[0], path[-1]\n",
        "  cost += distance_matrix[first_city][last_city]\n",
        "\n",
        "  return cost"
      ],
      "metadata": {
        "id": "z8oZQdaAUR2s"
      },
      "execution_count": 799,
      "outputs": []
    },
    {
      "cell_type": "code",
      "source": [
        "def generate_initial_population(population_size, cities):\n",
        "  '''\n",
        "  Function To generate an initial population with certain size.\n",
        "\n",
        "    Args:\n",
        "      population_size (int) : The desired size of the population.\n",
        "      cities (list): List of all city objects in the dataframe.\n",
        "\n",
        "    Returns:\n",
        "      initial_population (list): The list containing initial population of paths (routes).\n",
        "  '''\n",
        "\n",
        "  initial_population = []         # Initialize a list to store the initial population\n",
        "  n_cities = len(cities)          # Get number of cities\n",
        "\n",
        "  distance_matrix = get_distance_matrix(cities)       # Get the distance matrix for cities\n",
        "  cities_sorted = sorted(cities, key=lambda city:city.name)\n",
        "\n",
        "\n",
        "  # Generate the initial population\n",
        "  for path_idx in range(population_size):\n",
        "\n",
        "    chosen_route = np.random.permutation(n_cities)     # Get random combination of indices for the path\n",
        "    cost = get_cost(chosen_route, distance_matrix)      # Get the cost for that chosen path\n",
        "\n",
        "    # Store Path Data\n",
        "    fitness = 1 / cost        # Get the fitness\n",
        "    cities = [cities_sorted[idx] for idx in chosen_route]     # Get the cities objects of that path\n",
        "    path_obj = path(fitness=fitness, cost=cost, cities=cities)      # Form the path object\n",
        "\n",
        "    # Add New Path To our Population\n",
        "    initial_population.append(path_obj)\n",
        "\n",
        "\n",
        "  return initial_population"
      ],
      "metadata": {
        "id": "M9gBkUpLADsg"
      },
      "execution_count": 800,
      "outputs": []
    },
    {
      "cell_type": "code",
      "source": [
        "initial_population = generate_initial_population(population_size, cities_objects)"
      ],
      "metadata": {
        "id": "XQlinyaYBVsz"
      },
      "execution_count": 801,
      "outputs": []
    },
    {
      "cell_type": "code",
      "source": [
        "print('Initial Population Size:', len(initial_population))"
      ],
      "metadata": {
        "colab": {
          "base_uri": "https://localhost:8080/"
        },
        "id": "gQ0siphhI7AX",
        "outputId": "76c9db46-3673-4e24-e9e8-be11bf6bb9e1"
      },
      "execution_count": 802,
      "outputs": [
        {
          "output_type": "stream",
          "name": "stdout",
          "text": [
            "Initial Population Size: 100\n"
          ]
        }
      ]
    },
    {
      "cell_type": "markdown",
      "source": [
        "## **6. Construction Phase**"
      ],
      "metadata": {
        "id": "al-b0u5xQeNW"
      }
    },
    {
      "cell_type": "code",
      "source": [
        "def construction(population : list, pheromone_matrix : np.array, evap_rate : float, alpha : float, beta : float):\n",
        "  '''\n",
        "  Function To update the pheromone matrix based on a given population.\n",
        "\n",
        "    Args:\n",
        "      population (list) : List of the current population (various paths), that will be used to update the pheromone matrix.\n",
        "      pheromone_matrix (np.array) :  The cumulative pheromone matrix.\n",
        "      evap_rate (float) : The Evaporation Rate.\n",
        "      alpha (float) : Parameter that determines the exploration rate.\n",
        "      beta (float) : Parameter that determines the exploitation rate.\n",
        "\n",
        "    Returns:\n",
        "      pheromone_matrix (np.array) :  The updated cumulative pheromone matrix.\n",
        "  '''\n",
        "\n",
        "  # Iterate through each path we have in our population\n",
        "  for path_obj in population:\n",
        "\n",
        "    cities = path_obj.cities      # Get the cities objects of that path\n",
        "    fitness = path_obj.fitness    # Get the fitness of that path (1 / cost)\n",
        "\n",
        "    # Update the pheromone matrix based on that path\n",
        "    for idx, city in enumerate(cities[:-1]):\n",
        "\n",
        "      city_1, city_2 = int(city.name)-1, int(cities[idx+1].name)-1\n",
        "      pheromone_matrix[city_1, city_2] = ((1-evap_rate) * pheromone_matrix[city_1, city_2]) + fitness\n",
        "\n",
        "    # Take into account the fitness between the last city and first city\n",
        "    city_1, city_2 = int(cities[-1].name)-1, int(cities[0].name)-1\n",
        "    pheromone_matrix[city_1, city_2] =  ((1-evap_rate) * pheromone_matrix[city_1, city_2]) + fitness\n",
        "\n",
        "  return pheromone_matrix"
      ],
      "metadata": {
        "id": "fsfmwGvmJlPs"
      },
      "execution_count": 803,
      "outputs": []
    },
    {
      "cell_type": "code",
      "source": [
        "pheromone_matrix = construction(initial_population, pheromone_matrix, evap_rate=0.0, alpha=0.01, beta=0.01)\n",
        "print(pheromone_matrix)"
      ],
      "metadata": {
        "id": "zwKzxFVCM1lY",
        "colab": {
          "base_uri": "https://localhost:8080/"
        },
        "outputId": "3fc6f2e1-bf8b-4eb2-b951-ec2c8e5cbde8"
      },
      "execution_count": 804,
      "outputs": [
        {
          "output_type": "stream",
          "name": "stdout",
          "text": [
            "[[0.         0.01071283 0.01178956 0.00823059 0.01311498 0.00772436\n",
            "  0.00400954 0.00932138 0.01463528 0.01191313 0.01099958 0.01347038\n",
            "  0.01131946 0.01178195 0.01176451]\n",
            " [0.01389556 0.         0.00867418 0.01356559 0.00955375 0.00440118\n",
            "  0.01688319 0.01805206 0.00761272 0.00438865 0.01196558 0.01191883\n",
            "  0.01182913 0.01023588 0.00781124]\n",
            " [0.01555555 0.00947641 0.         0.0134011  0.01537739 0.01547216\n",
            "  0.00898965 0.         0.01325559 0.00737002 0.0134448  0.0091504\n",
            "  0.01021125 0.01118256 0.00790066]\n",
            " [0.01661255 0.01571783 0.00712586 0.         0.01148683 0.01418997\n",
            "  0.01301235 0.01637126 0.01515772 0.0062909  0.00801577 0.00430801\n",
            "  0.00743929 0.00309512 0.01196407]\n",
            " [0.01037496 0.00614048 0.01828845 0.0147253  0.         0.01145722\n",
            "  0.00706307 0.00868583 0.01226634 0.01788364 0.00872332 0.00762272\n",
            "  0.01373667 0.00731971 0.00649983]\n",
            " [0.01370152 0.00726999 0.00459849 0.01451616 0.00703659 0.\n",
            "  0.00890472 0.00784139 0.01051282 0.00411975 0.01727984 0.01405364\n",
            "  0.01644919 0.00775229 0.01675114]\n",
            " [0.01328073 0.01285262 0.01267396 0.00719296 0.00623781 0.01297055\n",
            "  0.         0.00461283 0.00682806 0.01676381 0.01471051 0.00465046\n",
            "  0.01370552 0.01400629 0.01030145]\n",
            " [0.01507995 0.00938089 0.01225375 0.0030233  0.01070733 0.01216821\n",
            "  0.00723921 0.         0.00751911 0.01081081 0.02121719 0.00453612\n",
            "  0.00826555 0.01249416 0.01609196]\n",
            " [0.00383768 0.01649319 0.01190985 0.0145515  0.00942016 0.00425812\n",
            "  0.01343963 0.02055311 0.         0.01651029 0.00937422 0.00706455\n",
            "  0.01068851 0.00886589 0.00382084]\n",
            " [0.00907805 0.00903967 0.01202417 0.00762965 0.01616842 0.00863128\n",
            "  0.00810858 0.01042172 0.01207637 0.         0.00611587 0.01542704\n",
            "  0.01004103 0.01367558 0.01235013]\n",
            " [0.00613489 0.01378408 0.00539907 0.00931492 0.01136411 0.00940575\n",
            "  0.01830538 0.00813155 0.00917329 0.00587046 0.         0.01643197\n",
            "  0.00675744 0.01597545 0.0147392 ]\n",
            " [0.00539767 0.01015244 0.00770084 0.01634131 0.01238413 0.00816897\n",
            "  0.01078833 0.00575771 0.00868952 0.0152456  0.00883122 0.\n",
            "  0.01365607 0.01570823 0.01196554]\n",
            " [0.00820473 0.00479804 0.00588865 0.0058486  0.00752117 0.01012785\n",
            "  0.01175216 0.01347323 0.02312595 0.01065702 0.00881689 0.01756749\n",
            "  0.         0.00724883 0.01575694]\n",
            " [0.00897015 0.01344126 0.017413   0.00907646 0.01026714 0.0179447\n",
            "  0.00862059 0.01341407 0.00845361 0.01558763 0.00286791 0.01150514\n",
            "  0.01015587 0.         0.00307002]\n",
            " [0.01066356 0.01152782 0.01504771 0.0133701  0.01014774 0.01386723\n",
            "  0.01367116 0.01415141 0.00148118 0.00737583 0.00842485 0.0130808\n",
            "  0.00653255 0.01144561 0.        ]]\n"
          ]
        }
      ]
    },
    {
      "cell_type": "markdown",
      "source": [
        "## **7. Get the Probabilities**"
      ],
      "metadata": {
        "id": "V-r0moFH3czr"
      }
    },
    {
      "cell_type": "code",
      "source": [
        "def get_probabilities(starting_city : city, remaining_cities : list, pheromone_matrix : np.array, distance_matrix :np.array, alpha : float, beta : float):\n",
        "  '''\n",
        "  Function To get the probabilities for each city from some certain starting city.\n",
        "\n",
        "    Args:\n",
        "      starting_city (city) : The random starting city.\n",
        "      remaining_cities (list) :  All the other non-chosen / non-visited cities.\n",
        "      pheromone_matrix (np.array) :  The cumulative pheromone matrix.\n",
        "      distance_matrix (np.array) :  The distance matrix between cities.\n",
        "      alpha (float) : Parameter that determines the exploration rate.\n",
        "      beta (float) : Parameter that determines the exploitation rate.\n",
        "\n",
        "    Returns:\n",
        "      probabilities_dict (dict) : Dictionary with the corresponsing probability to each city.\n",
        "  '''\n",
        "\n",
        "  probabilities_dict = {}       # Dictionary that will hold the corresponsing probability to each city\n",
        "  total_prob = 0.0              # Initialize the cumulative probability\n",
        "\n",
        "  # Get the probability for each remaining city\n",
        "  for city_obj in remaining_cities:\n",
        "\n",
        "    starting_city_idx, potential_city_idx = (int(starting_city.name) - 1) , (int(city_obj.name) - 1)    # Get the indicies of the cities\n",
        "    prob = (pheromone_matrix[starting_city_idx, potential_city_idx]**alpha) * ((1 / distance_matrix[starting_city_idx, potential_city_idx])**beta)\n",
        "    probabilities_dict[potential_city_idx] = prob\n",
        "\n",
        "    total_prob += prob  # Accumulate total probabilities\n",
        "\n",
        "  # Normalize the probabilities\n",
        "  probabilities_dict = {key : (val / total_prob) for key, val in probabilities_dict.items()}\n",
        "\n",
        "  return probabilities_dict"
      ],
      "metadata": {
        "id": "KzMvBOOK3kAO"
      },
      "execution_count": 805,
      "outputs": []
    },
    {
      "cell_type": "code",
      "source": [
        "n_cities = len(cities_objects)\n",
        "random_idx = random.randint(0, n_cities)\n",
        "starting_city = [city for city in cities_objects if int(city.name) == (random_idx+1)]\n",
        "remaining_cities = [city for city in cities_objects if int(city.name) != (random_idx+1)]\n",
        "\n",
        "probabilities_dict = get_probabilities(starting_city[0], remaining_cities, pheromone_matrix, distance_matrix, alpha=0.01, beta=0.001)\n",
        "print(probabilities_dict)"
      ],
      "metadata": {
        "colab": {
          "base_uri": "https://localhost:8080/"
        },
        "id": "rhekFhYiC3fx",
        "outputId": "5908429c-5dc8-45bb-ba22-bf2a340bf636"
      },
      "execution_count": 806,
      "outputs": [
        {
          "output_type": "stream",
          "name": "stdout",
          "text": [
            "{0: 0.07112021139094203, 1: 0.07167342821642794, 2: 0.07095714907970566, 3: 0.07144148669174238, 4: 0.07148491373763621, 5: 0.07141630687717061, 6: 0.07183061661767351, 7: 0.07130361724201889, 8: 0.07135205656609557, 9: 0.07104816304437231, 11: 0.07176535920460705, 12: 0.07116211975067237, 13: 0.07175219898552504, 14: 0.07169237259541048}\n"
          ]
        }
      ]
    },
    {
      "cell_type": "markdown",
      "source": [
        "## **8. Get the Cumulative Density Function**"
      ],
      "metadata": {
        "id": "FVimT1PEEACT"
      }
    },
    {
      "cell_type": "code",
      "source": [
        "def get_cdf(probabilities_dict : dict):\n",
        "  '''\n",
        "  Function To convert the given probabilities to a cumulative distributive function.\n",
        "\n",
        "    Args:\n",
        "      probabilities_dict (dict) : Initial Dictionary with the corresponsing probability to each city.\n",
        "\n",
        "    Returns:\n",
        "      probabilities_dict (dict) : Final Dictionary with the corresponsing cumulative distributive function to each city.\n",
        "  '''\n",
        "\n",
        "  # Arrange the probabilities in ascending order\n",
        "  probabilities_dict = dict(sorted(probabilities_dict.items(), key = lambda prob_item : prob_item[1]))\n",
        "  #print(probabilities_dict)\n",
        "\n",
        "\n",
        "  # Get the cumulative probabilities\n",
        "  cum_prob = 0.0\n",
        "  for city, prob in probabilities_dict.items():\n",
        "    cum_prob += prob\n",
        "    probabilities_dict[city] = cum_prob\n",
        "\n",
        "  return probabilities_dict"
      ],
      "metadata": {
        "id": "ro8TICSiEF6r"
      },
      "execution_count": 807,
      "outputs": []
    },
    {
      "cell_type": "code",
      "source": [
        "cdf_map = get_cdf(probabilities_dict)\n",
        "print(cdf_map)"
      ],
      "metadata": {
        "colab": {
          "base_uri": "https://localhost:8080/"
        },
        "id": "LNnOJUckEV4W",
        "outputId": "7510ffdb-972c-465f-bda7-8cc28305c7f3"
      },
      "execution_count": 808,
      "outputs": [
        {
          "output_type": "stream",
          "name": "stdout",
          "text": [
            "{2: 0.07095714907970566, 9: 0.14200531212407796, 0: 0.21312552351502, 12: 0.2842876432656924, 7: 0.3555912605077113, 8: 0.42694331707380684, 5: 0.49835962395097744, 3: 0.5698011106427199, 4: 0.6412860243803561, 1: 0.7129594525967841, 14: 0.7846518251921946, 13: 0.8564040241777195, 11: 0.9281693833823266, 6: 1.0}\n"
          ]
        }
      ]
    },
    {
      "cell_type": "markdown",
      "source": [
        "## **9. Get the Fittest Solution**"
      ],
      "metadata": {
        "id": "i9QGYBZmth5S"
      }
    },
    {
      "cell_type": "code",
      "source": [
        "def get_fittest(population):\n",
        "  '''\n",
        "  Function To get the fittest path i.e path with the least cost.\n",
        "\n",
        "    Args:\n",
        "      population (list) : List of the final population (various paths), to choose the best fit from.\n",
        "\n",
        "    Returns:\n",
        "      fittest_solution (path) : Path with the highest fitness (lowest cost).\n",
        "  '''\n",
        "\n",
        "  # Sort the population by fitness (from fittest to least fit)\n",
        "  sorted_population = sorted(population, key=lambda solution:solution.fitness, reverse=True)\n",
        "  fittest_solution = sorted_population[0]     # Get the fittesst\n",
        "\n",
        "  return fittest_solution"
      ],
      "metadata": {
        "id": "-p_WKgQGtiRF"
      },
      "execution_count": 809,
      "outputs": []
    },
    {
      "cell_type": "code",
      "source": [
        "fittest_solution = get_fittest(initial_population)\n",
        "print(fittest_solution.fitness)"
      ],
      "metadata": {
        "colab": {
          "base_uri": "https://localhost:8080/"
        },
        "id": "pefqbd9buHnK",
        "outputId": "714ec387-3de1-40d7-e0b7-749e1f0df6e3"
      },
      "execution_count": 810,
      "outputs": [
        {
          "output_type": "stream",
          "name": "stdout",
          "text": [
            "0.002006120615973338\n"
          ]
        }
      ]
    },
    {
      "cell_type": "markdown",
      "source": [
        "## **10. Ant Colony Algorithm (ACO)**"
      ],
      "metadata": {
        "id": "B-CQi861Ntqx"
      }
    },
    {
      "cell_type": "code",
      "source": [
        "def aco_algorithm(cities_objects : list, population_size : int, n_iterations : int, evap_rate : float, alpha : float, beta : float):\n",
        "  '''\n",
        "  Function To perform Ant Colony Algorithm to solve Travelling Salesman Problem (TSP).\n",
        "\n",
        "    Args:\n",
        "      cities_objects (list) : List of unique cities in our dataframe as city objects.\n",
        "      population_size (int) : The desired population size.\n",
        "      n_iterations (int) : The desired maximum number of iterations.\n",
        "      evap_rate (float) : The Evaporation Rate.\n",
        "      alpha (float) : Parameter that determines the exploration rate.\n",
        "      beta (float) : Parameter that determines the exploitation rate.\n",
        "\n",
        "    Returns:\n",
        "      new_population (list) : List of the final population (various paths), to choose the best fit from.\n",
        "  '''\n",
        "\n",
        "  # Get the total number of cities\n",
        "  n_cities = len(cities_objects)\n",
        "\n",
        "  # Generate the initial Population\n",
        "  initial_population = generate_initial_population(population_size, cities_objects)\n",
        "\n",
        "  # Generate the initial Pheromone Matrix\n",
        "  pheromone_matrix = initialize_pheromone_matrix(cities_objects, tau_init=0.0)\n",
        "  # Update the Pheromone Matrix after each new population\n",
        "  pheromone_matrix = construction(initial_population, pheromone_matrix, evap_rate=evap_rate, alpha=alpha, beta=beta)\n",
        "\n",
        "  # Get the Distance Matrix\n",
        "  distance_matrix = get_distance_matrix(cities_objects)\n",
        "\n",
        "\n",
        "  # Construct n_iterations populations\n",
        "  for iteration in range(n_iterations):\n",
        "\n",
        "    # Empty list to store the new population solutions\n",
        "    new_population = []\n",
        "\n",
        "    # Construct population_size solutions\n",
        "    for solution in range(population_size):\n",
        "\n",
        "      # Generate a random starting city\n",
        "      random_idx = random.randint(1, n_cities)\n",
        "      starting_city = [city for city in cities_objects if int(city.name) == random_idx]\n",
        "\n",
        "      # Initialize the solution\n",
        "      solution_path = [starting_city[0]]\n",
        "\n",
        "      # Get the probabilities between the starting city and other cities\n",
        "      remaining_cities = [city for city in cities_objects if int(city.name) != random_idx]\n",
        "\n",
        "\n",
        "      # Compute the rest of the path by observing the remaining cities\n",
        "      while (len(remaining_cities) > 1):\n",
        "\n",
        "        # Generate a random float (0, 1)\n",
        "        random_prob = random.random()\n",
        "\n",
        "        # Get Probabilities for the remaining cities\n",
        "        probabilities_dict = get_probabilities(starting_city[0], remaining_cities, pheromone_matrix, distance_matrix, alpha=alpha, beta=beta)\n",
        "        # Get the Cumulative Distributive Function For remaining cities\n",
        "        cdf_map = get_cdf(probabilities_dict)\n",
        "\n",
        "        # Look for the matching city\n",
        "        for city, cdf in cdf_map.items():\n",
        "\n",
        "          # If a match was found (city with cdf greater than or equal the random probability)\n",
        "          if random_prob <= cdf:\n",
        "\n",
        "            next_city = [city_obj for city_obj in cities_objects if int(city_obj.name) == (city+1)]\n",
        "            solution_path.append(next_city[0])    # Add city to the path\n",
        "\n",
        "            # Get Remaining cities\n",
        "            remaining_cities = [city_obj for city_obj in remaining_cities if int(city_obj.name) != (city+1)]\n",
        "\n",
        "            break   # Exit search, as a match was found\n",
        "\n",
        "      # Add the final / remaining city\n",
        "      solution_path.append(remaining_cities[0])\n",
        "\n",
        "      # Create the path object and append it to the new population\n",
        "      cities_indicies = [int(city.name)-1 for city in solution_path]\n",
        "      cost = get_cost(cities_indicies, distance_matrix)\n",
        "      fitness = 1 / cost\n",
        "      path_obj = path(cities=solution_path, fitness=fitness, cost=cost)\n",
        "      new_population.append(path_obj)\n",
        "\n",
        "\n",
        "    # Update the Pheromone Matrix after each new population\n",
        "    pheromone_matrix = construction(new_population, pheromone_matrix, evap_rate=evap_rate, alpha=alpha, beta=beta)\n",
        "\n",
        "\n",
        "  return new_population"
      ],
      "metadata": {
        "id": "G8dnERkryQ5S"
      },
      "execution_count": 824,
      "outputs": []
    },
    {
      "cell_type": "code",
      "source": [
        "population = aco_algorithm(cities_objects, population_size, n_iterations, evap_rate=0.05, alpha=0.6, beta=0.6)\n",
        "fittest_solution = get_fittest(population)\n",
        "\n",
        "print('Fittest Solution Is Path:', end=' ')\n",
        "for city in fittest_solution.cities:\n",
        "  print(city.name, end=' -> ')\n",
        "\n",
        "print(f'With Cost = {fittest_solution.cost}')"
      ],
      "metadata": {
        "colab": {
          "base_uri": "https://localhost:8080/"
        },
        "id": "m-PFXp-mylHB",
        "outputId": "75732ab8-79c0-4286-f4d9-e458d04a200d"
      },
      "execution_count": 832,
      "outputs": [
        {
          "output_type": "stream",
          "name": "stdout",
          "text": [
            "Fittest Solution Is Path: 2.0 -> 13.0 -> 1.0 -> 11.0 -> 8.0 -> 6.0 -> 3.0 -> 14.0 -> 7.0 -> 5.0 -> 9.0 -> 15.0 -> 10.0 -> 12.0 -> 4.0 -> With Cost = 460.1174029415785\n"
          ]
        }
      ]
    }
  ]
}