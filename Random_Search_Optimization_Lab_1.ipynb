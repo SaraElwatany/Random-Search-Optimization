{
  "nbformat": 4,
  "nbformat_minor": 0,
  "metadata": {
    "colab": {
      "provenance": []
    },
    "kernelspec": {
      "name": "python3",
      "display_name": "Python 3"
    },
    "language_info": {
      "name": "python"
    }
  },
  "cells": [
    {
      "cell_type": "code",
      "source": [
        "import random\n",
        "import numpy as np\n",
        "import pandas as pd\n",
        "from pprint import pprint\n",
        "import matplotlib.pyplot as plt"
      ],
      "metadata": {
        "id": "s3gnhKUoN-wX"
      },
      "execution_count": 442,
      "outputs": []
    },
    {
      "cell_type": "code",
      "execution_count": 443,
      "metadata": {
        "id": "rCxf4JAuLbdn"
      },
      "outputs": [],
      "source": [
        "# Define the blueprint of the city object\n",
        "class city:\n",
        "\n",
        "  def __init__(self, name, x, y):\n",
        "    self._name = name\n",
        "    self._x = x\n",
        "    self._y = y\n",
        "    self._visited = False\n",
        "\n",
        "  @property\n",
        "  def name(self):\n",
        "    return self._name\n",
        "\n",
        "  @name.setter\n",
        "  def name(self, name):\n",
        "    self._name = name\n",
        "\n",
        "\n",
        "  @property\n",
        "  def x(self):\n",
        "    return self._x\n",
        "\n",
        "  @x.setter\n",
        "  def x(self, x):\n",
        "    self._x = x\n",
        "\n",
        "\n",
        "  @property\n",
        "  def y(self):\n",
        "    return self._y\n",
        "\n",
        "  @y.setter\n",
        "  def y(self, y):\n",
        "    self._y = y\n",
        "\n",
        "\n",
        "  @property\n",
        "  def visited(self):\n",
        "    return self._visited\n",
        "\n",
        "  @visited.setter\n",
        "  def visited(self, visited):\n",
        "    self._visited = visited"
      ]
    },
    {
      "cell_type": "markdown",
      "source": [
        "## **1. Reading the Data**"
      ],
      "metadata": {
        "id": "3OE9-ktYONNx"
      }
    },
    {
      "cell_type": "code",
      "source": [
        "df = pd.read_csv(\"/content/Data set CSV.csv\")"
      ],
      "metadata": {
        "id": "pYEHY27nMMjt"
      },
      "execution_count": 444,
      "outputs": []
    },
    {
      "cell_type": "code",
      "source": [
        "df.head()"
      ],
      "metadata": {
        "colab": {
          "base_uri": "https://localhost:8080/",
          "height": 206
        },
        "id": "IvGN7We7OFI-",
        "outputId": "7c6e0f24-2a20-4f92-ee3b-5cbf9ada441b"
      },
      "execution_count": 445,
      "outputs": [
        {
          "output_type": "execute_result",
          "data": {
            "text/plain": [
              "   City             x             y\n",
              "0     1  5.500000e-08  9.860000e-09\n",
              "1     2 -2.887330e+01 -7.980000e-08\n",
              "2     3 -7.929160e+01 -2.140330e+01\n",
              "3     4 -1.465770e+01 -4.338960e+01\n",
              "4     5 -6.474730e+01  2.189820e+01"
            ],
            "text/html": [
              "\n",
              "  <div id=\"df-ea4f6258-6dbd-4fbe-94bb-180e161095d1\" class=\"colab-df-container\">\n",
              "    <div>\n",
              "<style scoped>\n",
              "    .dataframe tbody tr th:only-of-type {\n",
              "        vertical-align: middle;\n",
              "    }\n",
              "\n",
              "    .dataframe tbody tr th {\n",
              "        vertical-align: top;\n",
              "    }\n",
              "\n",
              "    .dataframe thead th {\n",
              "        text-align: right;\n",
              "    }\n",
              "</style>\n",
              "<table border=\"1\" class=\"dataframe\">\n",
              "  <thead>\n",
              "    <tr style=\"text-align: right;\">\n",
              "      <th></th>\n",
              "      <th>City</th>\n",
              "      <th>x</th>\n",
              "      <th>y</th>\n",
              "    </tr>\n",
              "  </thead>\n",
              "  <tbody>\n",
              "    <tr>\n",
              "      <th>0</th>\n",
              "      <td>1</td>\n",
              "      <td>5.500000e-08</td>\n",
              "      <td>9.860000e-09</td>\n",
              "    </tr>\n",
              "    <tr>\n",
              "      <th>1</th>\n",
              "      <td>2</td>\n",
              "      <td>-2.887330e+01</td>\n",
              "      <td>-7.980000e-08</td>\n",
              "    </tr>\n",
              "    <tr>\n",
              "      <th>2</th>\n",
              "      <td>3</td>\n",
              "      <td>-7.929160e+01</td>\n",
              "      <td>-2.140330e+01</td>\n",
              "    </tr>\n",
              "    <tr>\n",
              "      <th>3</th>\n",
              "      <td>4</td>\n",
              "      <td>-1.465770e+01</td>\n",
              "      <td>-4.338960e+01</td>\n",
              "    </tr>\n",
              "    <tr>\n",
              "      <th>4</th>\n",
              "      <td>5</td>\n",
              "      <td>-6.474730e+01</td>\n",
              "      <td>2.189820e+01</td>\n",
              "    </tr>\n",
              "  </tbody>\n",
              "</table>\n",
              "</div>\n",
              "    <div class=\"colab-df-buttons\">\n",
              "\n",
              "  <div class=\"colab-df-container\">\n",
              "    <button class=\"colab-df-convert\" onclick=\"convertToInteractive('df-ea4f6258-6dbd-4fbe-94bb-180e161095d1')\"\n",
              "            title=\"Convert this dataframe to an interactive table.\"\n",
              "            style=\"display:none;\">\n",
              "\n",
              "  <svg xmlns=\"http://www.w3.org/2000/svg\" height=\"24px\" viewBox=\"0 -960 960 960\">\n",
              "    <path d=\"M120-120v-720h720v720H120Zm60-500h600v-160H180v160Zm220 220h160v-160H400v160Zm0 220h160v-160H400v160ZM180-400h160v-160H180v160Zm440 0h160v-160H620v160ZM180-180h160v-160H180v160Zm440 0h160v-160H620v160Z\"/>\n",
              "  </svg>\n",
              "    </button>\n",
              "\n",
              "  <style>\n",
              "    .colab-df-container {\n",
              "      display:flex;\n",
              "      gap: 12px;\n",
              "    }\n",
              "\n",
              "    .colab-df-convert {\n",
              "      background-color: #E8F0FE;\n",
              "      border: none;\n",
              "      border-radius: 50%;\n",
              "      cursor: pointer;\n",
              "      display: none;\n",
              "      fill: #1967D2;\n",
              "      height: 32px;\n",
              "      padding: 0 0 0 0;\n",
              "      width: 32px;\n",
              "    }\n",
              "\n",
              "    .colab-df-convert:hover {\n",
              "      background-color: #E2EBFA;\n",
              "      box-shadow: 0px 1px 2px rgba(60, 64, 67, 0.3), 0px 1px 3px 1px rgba(60, 64, 67, 0.15);\n",
              "      fill: #174EA6;\n",
              "    }\n",
              "\n",
              "    .colab-df-buttons div {\n",
              "      margin-bottom: 4px;\n",
              "    }\n",
              "\n",
              "    [theme=dark] .colab-df-convert {\n",
              "      background-color: #3B4455;\n",
              "      fill: #D2E3FC;\n",
              "    }\n",
              "\n",
              "    [theme=dark] .colab-df-convert:hover {\n",
              "      background-color: #434B5C;\n",
              "      box-shadow: 0px 1px 3px 1px rgba(0, 0, 0, 0.15);\n",
              "      filter: drop-shadow(0px 1px 2px rgba(0, 0, 0, 0.3));\n",
              "      fill: #FFFFFF;\n",
              "    }\n",
              "  </style>\n",
              "\n",
              "    <script>\n",
              "      const buttonEl =\n",
              "        document.querySelector('#df-ea4f6258-6dbd-4fbe-94bb-180e161095d1 button.colab-df-convert');\n",
              "      buttonEl.style.display =\n",
              "        google.colab.kernel.accessAllowed ? 'block' : 'none';\n",
              "\n",
              "      async function convertToInteractive(key) {\n",
              "        const element = document.querySelector('#df-ea4f6258-6dbd-4fbe-94bb-180e161095d1');\n",
              "        const dataTable =\n",
              "          await google.colab.kernel.invokeFunction('convertToInteractive',\n",
              "                                                    [key], {});\n",
              "        if (!dataTable) return;\n",
              "\n",
              "        const docLinkHtml = 'Like what you see? Visit the ' +\n",
              "          '<a target=\"_blank\" href=https://colab.research.google.com/notebooks/data_table.ipynb>data table notebook</a>'\n",
              "          + ' to learn more about interactive tables.';\n",
              "        element.innerHTML = '';\n",
              "        dataTable['output_type'] = 'display_data';\n",
              "        await google.colab.output.renderOutput(dataTable, element);\n",
              "        const docLink = document.createElement('div');\n",
              "        docLink.innerHTML = docLinkHtml;\n",
              "        element.appendChild(docLink);\n",
              "      }\n",
              "    </script>\n",
              "  </div>\n",
              "\n",
              "\n",
              "<div id=\"df-cd68d9d8-85e0-43e7-826c-01848b5d9e50\">\n",
              "  <button class=\"colab-df-quickchart\" onclick=\"quickchart('df-cd68d9d8-85e0-43e7-826c-01848b5d9e50')\"\n",
              "            title=\"Suggest charts\"\n",
              "            style=\"display:none;\">\n",
              "\n",
              "<svg xmlns=\"http://www.w3.org/2000/svg\" height=\"24px\"viewBox=\"0 0 24 24\"\n",
              "     width=\"24px\">\n",
              "    <g>\n",
              "        <path d=\"M19 3H5c-1.1 0-2 .9-2 2v14c0 1.1.9 2 2 2h14c1.1 0 2-.9 2-2V5c0-1.1-.9-2-2-2zM9 17H7v-7h2v7zm4 0h-2V7h2v10zm4 0h-2v-4h2v4z\"/>\n",
              "    </g>\n",
              "</svg>\n",
              "  </button>\n",
              "\n",
              "<style>\n",
              "  .colab-df-quickchart {\n",
              "      --bg-color: #E8F0FE;\n",
              "      --fill-color: #1967D2;\n",
              "      --hover-bg-color: #E2EBFA;\n",
              "      --hover-fill-color: #174EA6;\n",
              "      --disabled-fill-color: #AAA;\n",
              "      --disabled-bg-color: #DDD;\n",
              "  }\n",
              "\n",
              "  [theme=dark] .colab-df-quickchart {\n",
              "      --bg-color: #3B4455;\n",
              "      --fill-color: #D2E3FC;\n",
              "      --hover-bg-color: #434B5C;\n",
              "      --hover-fill-color: #FFFFFF;\n",
              "      --disabled-bg-color: #3B4455;\n",
              "      --disabled-fill-color: #666;\n",
              "  }\n",
              "\n",
              "  .colab-df-quickchart {\n",
              "    background-color: var(--bg-color);\n",
              "    border: none;\n",
              "    border-radius: 50%;\n",
              "    cursor: pointer;\n",
              "    display: none;\n",
              "    fill: var(--fill-color);\n",
              "    height: 32px;\n",
              "    padding: 0;\n",
              "    width: 32px;\n",
              "  }\n",
              "\n",
              "  .colab-df-quickchart:hover {\n",
              "    background-color: var(--hover-bg-color);\n",
              "    box-shadow: 0 1px 2px rgba(60, 64, 67, 0.3), 0 1px 3px 1px rgba(60, 64, 67, 0.15);\n",
              "    fill: var(--button-hover-fill-color);\n",
              "  }\n",
              "\n",
              "  .colab-df-quickchart-complete:disabled,\n",
              "  .colab-df-quickchart-complete:disabled:hover {\n",
              "    background-color: var(--disabled-bg-color);\n",
              "    fill: var(--disabled-fill-color);\n",
              "    box-shadow: none;\n",
              "  }\n",
              "\n",
              "  .colab-df-spinner {\n",
              "    border: 2px solid var(--fill-color);\n",
              "    border-color: transparent;\n",
              "    border-bottom-color: var(--fill-color);\n",
              "    animation:\n",
              "      spin 1s steps(1) infinite;\n",
              "  }\n",
              "\n",
              "  @keyframes spin {\n",
              "    0% {\n",
              "      border-color: transparent;\n",
              "      border-bottom-color: var(--fill-color);\n",
              "      border-left-color: var(--fill-color);\n",
              "    }\n",
              "    20% {\n",
              "      border-color: transparent;\n",
              "      border-left-color: var(--fill-color);\n",
              "      border-top-color: var(--fill-color);\n",
              "    }\n",
              "    30% {\n",
              "      border-color: transparent;\n",
              "      border-left-color: var(--fill-color);\n",
              "      border-top-color: var(--fill-color);\n",
              "      border-right-color: var(--fill-color);\n",
              "    }\n",
              "    40% {\n",
              "      border-color: transparent;\n",
              "      border-right-color: var(--fill-color);\n",
              "      border-top-color: var(--fill-color);\n",
              "    }\n",
              "    60% {\n",
              "      border-color: transparent;\n",
              "      border-right-color: var(--fill-color);\n",
              "    }\n",
              "    80% {\n",
              "      border-color: transparent;\n",
              "      border-right-color: var(--fill-color);\n",
              "      border-bottom-color: var(--fill-color);\n",
              "    }\n",
              "    90% {\n",
              "      border-color: transparent;\n",
              "      border-bottom-color: var(--fill-color);\n",
              "    }\n",
              "  }\n",
              "</style>\n",
              "\n",
              "  <script>\n",
              "    async function quickchart(key) {\n",
              "      const quickchartButtonEl =\n",
              "        document.querySelector('#' + key + ' button');\n",
              "      quickchartButtonEl.disabled = true;  // To prevent multiple clicks.\n",
              "      quickchartButtonEl.classList.add('colab-df-spinner');\n",
              "      try {\n",
              "        const charts = await google.colab.kernel.invokeFunction(\n",
              "            'suggestCharts', [key], {});\n",
              "      } catch (error) {\n",
              "        console.error('Error during call to suggestCharts:', error);\n",
              "      }\n",
              "      quickchartButtonEl.classList.remove('colab-df-spinner');\n",
              "      quickchartButtonEl.classList.add('colab-df-quickchart-complete');\n",
              "    }\n",
              "    (() => {\n",
              "      let quickchartButtonEl =\n",
              "        document.querySelector('#df-cd68d9d8-85e0-43e7-826c-01848b5d9e50 button');\n",
              "      quickchartButtonEl.style.display =\n",
              "        google.colab.kernel.accessAllowed ? 'block' : 'none';\n",
              "    })();\n",
              "  </script>\n",
              "</div>\n",
              "\n",
              "    </div>\n",
              "  </div>\n"
            ],
            "application/vnd.google.colaboratory.intrinsic+json": {
              "type": "dataframe",
              "variable_name": "df",
              "summary": "{\n  \"name\": \"df\",\n  \"rows\": 15,\n  \"fields\": [\n    {\n      \"column\": \"City\",\n      \"properties\": {\n        \"dtype\": \"number\",\n        \"std\": 4,\n        \"min\": 1,\n        \"max\": 15,\n        \"num_unique_values\": 15,\n        \"samples\": [\n          10,\n          12,\n          1\n        ],\n        \"semantic_type\": \"\",\n        \"description\": \"\"\n      }\n    },\n    {\n      \"column\": \"x\",\n      \"properties\": {\n        \"dtype\": \"number\",\n        \"std\": 25.037090691331848,\n        \"min\": -79.2916,\n        \"max\": 5.5e-08,\n        \"num_unique_values\": 15,\n        \"samples\": [\n          -50.5859,\n          -65.0866,\n          5.5e-08\n        ],\n        \"semantic_type\": \"\",\n        \"description\": \"\"\n      }\n    },\n    {\n      \"column\": \"y\",\n      \"properties\": {\n        \"dtype\": \"number\",\n        \"std\": 22.44882467037034,\n        \"min\": -43.3896,\n        \"max\": 21.8982,\n        \"num_unique_values\": 15,\n        \"samples\": [\n          -21.5882,\n          -36.0625,\n          9.86e-09\n        ],\n        \"semantic_type\": \"\",\n        \"description\": \"\"\n      }\n    }\n  ]\n}"
            }
          },
          "metadata": {},
          "execution_count": 445
        }
      ]
    },
    {
      "cell_type": "code",
      "source": [
        "df.info()"
      ],
      "metadata": {
        "colab": {
          "base_uri": "https://localhost:8080/"
        },
        "id": "nMO0tDE1OGMQ",
        "outputId": "d8e8d3c4-9e7b-4a37-fda2-e739f4186cc6"
      },
      "execution_count": 446,
      "outputs": [
        {
          "output_type": "stream",
          "name": "stdout",
          "text": [
            "<class 'pandas.core.frame.DataFrame'>\n",
            "RangeIndex: 15 entries, 0 to 14\n",
            "Data columns (total 3 columns):\n",
            " #   Column  Non-Null Count  Dtype  \n",
            "---  ------  --------------  -----  \n",
            " 0   City    15 non-null     int64  \n",
            " 1   x       15 non-null     float64\n",
            " 2   y       15 non-null     float64\n",
            "dtypes: float64(2), int64(1)\n",
            "memory usage: 492.0 bytes\n"
          ]
        }
      ]
    },
    {
      "cell_type": "markdown",
      "source": [
        "## **2. Mapping the Data To Objects**"
      ],
      "metadata": {
        "id": "qBEHTAXzOTd1"
      }
    },
    {
      "cell_type": "code",
      "source": [
        "cities_objects = []     # Initialize an empty cities list\n",
        "\n",
        " # Iterate through each row (city data) in the dataframe\n",
        "for index, row in df.iterrows():\n",
        "  x, y = row['x'], row['y']       # Get city coordinates\n",
        "  name = row['City']              # Get city name\n",
        "  city_obj = city(name, x, y)     # Create city object from the data\n",
        "  cities_objects.append(city_obj)   # Append the city object to the cities"
      ],
      "metadata": {
        "id": "vSfQbdz5OHR6"
      },
      "execution_count": 447,
      "outputs": []
    },
    {
      "cell_type": "code",
      "source": [
        "cities_objects"
      ],
      "metadata": {
        "colab": {
          "base_uri": "https://localhost:8080/"
        },
        "id": "lZiOy_oTPp3Z",
        "outputId": "2831e1b2-70f2-4027-f56e-c1ec82f20bc4"
      },
      "execution_count": 448,
      "outputs": [
        {
          "output_type": "execute_result",
          "data": {
            "text/plain": [
              "[<__main__.city at 0x7fe9c6788f90>,\n",
              " <__main__.city at 0x7fe9c62e4050>,\n",
              " <__main__.city at 0x7fe9c67c5110>,\n",
              " <__main__.city at 0x7fe9c655e750>,\n",
              " <__main__.city at 0x7fe9c6789390>,\n",
              " <__main__.city at 0x7fe9c661b790>,\n",
              " <__main__.city at 0x7fe9c655ee50>,\n",
              " <__main__.city at 0x7fe9c661a310>,\n",
              " <__main__.city at 0x7fe9c661b8d0>,\n",
              " <__main__.city at 0x7fe9c6528dd0>,\n",
              " <__main__.city at 0x7fe9c655e450>,\n",
              " <__main__.city at 0x7fe9c658a9d0>,\n",
              " <__main__.city at 0x7fe9c658a210>,\n",
              " <__main__.city at 0x7fe9c658a890>,\n",
              " <__main__.city at 0x7fe9c6589610>]"
            ]
          },
          "metadata": {},
          "execution_count": 448
        }
      ]
    },
    {
      "cell_type": "markdown",
      "source": [
        "## **3. Choose the starting City At Random**"
      ],
      "metadata": {
        "id": "mUY8uyNIQvDf"
      }
    },
    {
      "cell_type": "code",
      "source": [
        "def random_city(cities):\n",
        "  '''\n",
        "    Args:\n",
        "      cities (list): List of all city objects in the dataframe.\n",
        "\n",
        "    Returns:\n",
        "      starting_city (city): The starting city object we got at random.\n",
        "  '''\n",
        "\n",
        "  random_indx = random.randint(0, len(cities)-1)    # Get a random integer\n",
        "  random_indx = 0\n",
        "  starting_city = cities[random_indx]             # Get the city corresponding to that random integer\n",
        "\n",
        "  return starting_city"
      ],
      "metadata": {
        "id": "ErtGlXcCQ4zG"
      },
      "execution_count": 449,
      "outputs": []
    },
    {
      "cell_type": "code",
      "source": [
        "starting_city = random_city(cities_objects)\n",
        "starting_city.name"
      ],
      "metadata": {
        "colab": {
          "base_uri": "https://localhost:8080/"
        },
        "id": "24p9Q4EnRXiA",
        "outputId": "55cde75f-87b4-4957-d743-e80d638b3f65"
      },
      "execution_count": 450,
      "outputs": [
        {
          "output_type": "execute_result",
          "data": {
            "text/plain": [
              "1.0"
            ]
          },
          "metadata": {},
          "execution_count": 450
        }
      ]
    },
    {
      "cell_type": "markdown",
      "source": [
        "## **4. Getting the remaining cities**"
      ],
      "metadata": {
        "id": "al-b0u5xQeNW"
      }
    },
    {
      "cell_type": "code",
      "source": [
        "def get_remaining_cities(starting_city, cities):\n",
        "    '''\n",
        "      Args:\n",
        "        starting_city (city): The starting city object we got at random.\n",
        "        cities (list): List of all city objects in the dataframe.\n",
        "\n",
        "      Returns:\n",
        "        remaining_cities (list): The remaining citis after excluding the starting city.\n",
        "    '''\n",
        "\n",
        "    remaining_cities = [city for city in cities if city.name != starting_city.name]\n",
        "\n",
        "    return remaining_cities"
      ],
      "metadata": {
        "id": "gbwY4CFhmx2-"
      },
      "execution_count": 451,
      "outputs": []
    },
    {
      "cell_type": "code",
      "source": [
        "remaining_cities = get_remaining_cities(starting_city, cities_objects)"
      ],
      "metadata": {
        "id": "IHcOlalAoJwd"
      },
      "execution_count": 452,
      "outputs": []
    },
    {
      "cell_type": "code",
      "source": [
        "pprint([city.name for city in remaining_cities])"
      ],
      "metadata": {
        "colab": {
          "base_uri": "https://localhost:8080/"
        },
        "id": "fTBvh8eenTRN",
        "outputId": "99cbfbef-9d7c-4a1d-ff52-43e80d30f7d7"
      },
      "execution_count": 453,
      "outputs": [
        {
          "output_type": "stream",
          "name": "stdout",
          "text": [
            "[2.0, 3.0, 4.0, 5.0, 6.0, 7.0, 8.0, 9.0, 10.0, 11.0, 12.0, 13.0, 14.0, 15.0]\n"
          ]
        }
      ]
    },
    {
      "cell_type": "markdown",
      "source": [
        "## **5. Getting the Minimum Distance To other non-visited cities**"
      ],
      "metadata": {
        "id": "bXYxuY5SmtOR"
      }
    },
    {
      "cell_type": "code",
      "source": [
        "def get_city_with_minimum_distance(starting_city, remaining_cities):\n",
        "\n",
        "  '''\n",
        "    Args:\n",
        "      starting_city (city): The starting city object we got at random.\n",
        "      remaining_cities (list): The remaining citis after excluding the starting city.\n",
        "\n",
        "    Returns:\n",
        "      winning_city (city): The city object with minimum distance to that starting city.\n",
        "      min_dist (float) : The minimum distance to the starting point.\n",
        "  '''\n",
        "\n",
        "  min_dist = np.inf\n",
        "  winning_city = remaining_cities[0]\n",
        "\n",
        "  for city_obj in remaining_cities:\n",
        "\n",
        "    euc_dist = np.sqrt((city_obj.x - starting_city.x)**2 + (city_obj.y - starting_city.y)**2)\n",
        "\n",
        "    if (euc_dist <= min_dist) and (city_obj.name != starting_city.name) and (not city_obj.visited):\n",
        "      min_dist = euc_dist\n",
        "      winning_city = city_obj\n",
        "\n",
        "  return winning_city, min_dist"
      ],
      "metadata": {
        "id": "_Sybn9mCQqlL"
      },
      "execution_count": 454,
      "outputs": []
    },
    {
      "cell_type": "markdown",
      "source": [
        "## **6. Getting the path**"
      ],
      "metadata": {
        "id": "nUgcXiPITaab"
      }
    },
    {
      "cell_type": "code",
      "source": [
        "path = [starting_city]  # Initialize the path as a list with the starting city as the beginning\n",
        "final_city = starting_city\n",
        "starting_city.visited = True\n",
        "total_cost = 0.0\n",
        "\n",
        "# Loop through the remaining cities\n",
        "for iter in range(len(cities_objects)):\n",
        "  winning_city, min_dist = get_city_with_minimum_distance(starting_city, remaining_cities)\n",
        "\n",
        "  # If we are in the final iteration set cost to distance between the starting city and the final one\n",
        "  if iter == len(cities_objects) - 1:\n",
        "    min_dist = euc_dist = np.sqrt((starting_city.x - final_city.x)**2 + (starting_city.y - final_city.y)**2)\n",
        "\n",
        "  total_cost += min_dist\n",
        "  starting_city = winning_city    # Update our starting city\n",
        "  path.append(winning_city)   # Append the visited city to our path\n",
        "  winning_city.visited = True     # Mark the city as visited\n",
        "\n",
        "path[-1] = final_city"
      ],
      "metadata": {
        "id": "z1UVXseOTAyX"
      },
      "execution_count": 455,
      "outputs": []
    },
    {
      "cell_type": "code",
      "source": [
        "pprint([city.name for city in path])"
      ],
      "metadata": {
        "colab": {
          "base_uri": "https://localhost:8080/"
        },
        "id": "vaxYM_ALWBIM",
        "outputId": "b3be6aee-0aa0-4982-e78d-212f52be7705"
      },
      "execution_count": 456,
      "outputs": [
        {
          "output_type": "stream",
          "name": "stdout",
          "text": [
            "[1.0,\n",
            " 13.0,\n",
            " 2.0,\n",
            " 15.0,\n",
            " 9.0,\n",
            " 5.0,\n",
            " 7.0,\n",
            " 3.0,\n",
            " 12.0,\n",
            " 14.0,\n",
            " 10.0,\n",
            " 8.0,\n",
            " 6.0,\n",
            " 4.0,\n",
            " 11.0,\n",
            " 1.0]\n"
          ]
        }
      ]
    },
    {
      "cell_type": "markdown",
      "source": [
        "## **7. Get the total cost**"
      ],
      "metadata": {
        "id": "jPQSr2ttrrR7"
      }
    },
    {
      "cell_type": "code",
      "source": [
        "print('The total cost of traveling is: ', total_cost)"
      ],
      "metadata": {
        "colab": {
          "base_uri": "https://localhost:8080/"
        },
        "id": "2qq33KNlsBvR",
        "outputId": "d096ec60-6b75-407a-ce89-c7019f65e298"
      },
      "execution_count": 457,
      "outputs": [
        {
          "output_type": "stream",
          "name": "stdout",
          "text": [
            "The total cost of traveling is:  284.3810904080332\n"
          ]
        }
      ]
    },
    {
      "cell_type": "markdown",
      "source": [
        "## **8. Plotting the path**"
      ],
      "metadata": {
        "id": "ohS7VtETWbA5"
      }
    },
    {
      "cell_type": "code",
      "source": [
        "x = [city.x for city in path]       # Get x-coordinates for the cities\n",
        "y = [city.y for city in path]        # Get y-coordinates for the cities\n",
        "names = [city.name for city in path]     # Get city names\n",
        "\n",
        "plt.figure(figsize=(15, 13))\n",
        "plt.plot(x, y, marker='o', markersize=12, markerfacecolor='red', markeredgecolor='black', color='blue', linestyle='dashed')\n",
        "plt.grid()\n",
        "#plt.xlabel('Path')\n",
        "#plt.ylabel('City Name')\n",
        "plt.title('Travelling Salesman Problem')\n",
        "\n",
        "# Remove axes ticks\n",
        "plt.tick_params(left=False, right=False, labelleft=False, labelbottom=False, bottom=False)\n",
        "\n",
        "# Annotating cities\n",
        "for x_point, y_point, name in zip(x, y, names):\n",
        "    plt.text(x_point+8, y_point+0.45, name, fontsize=12, ha='right')\n",
        "\n",
        "plt.show()    # Show the plot"
      ],
      "metadata": {
        "colab": {
          "base_uri": "https://localhost:8080/",
          "height": 1000
        },
        "id": "Ghb5CGwnWc5W",
        "outputId": "c4ec0586-5e0a-49b9-9a8f-54b7d2948673"
      },
      "execution_count": 458,
      "outputs": [
        {
          "output_type": "display_data",
          "data": {
            "text/plain": [
              "<Figure size 1500x1300 with 1 Axes>"
            ],
            "image/png": "[encoded data removed]"
          },
          "metadata": {}
        }
      ]
    }
  ]
}