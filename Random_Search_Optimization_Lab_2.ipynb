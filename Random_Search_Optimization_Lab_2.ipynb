{
  "nbformat": 4,
  "nbformat_minor": 0,
  "metadata": {
    "colab": {
      "provenance": []
    },
    "kernelspec": {
      "name": "python3",
      "display_name": "Python 3"
    },
    "language_info": {
      "name": "python"
    }
  },
  "cells": [
    {
      "cell_type": "code",
      "source": [
        "import math\n",
        "import copy\n",
        "import random\n",
        "import numpy as np\n",
        "import pandas as pd\n",
        "from pprint import pprint\n",
        "import matplotlib.pyplot as plt"
      ],
      "metadata": {
        "id": "s3gnhKUoN-wX"
      },
      "execution_count": 265,
      "outputs": []
    },
    {
      "cell_type": "code",
      "execution_count": 266,
      "metadata": {
        "id": "rCxf4JAuLbdn"
      },
      "outputs": [],
      "source": [
        "# Define the blueprint of the city object (gene)\n",
        "class city:\n",
        "\n",
        "  def __init__(self, name, x, y):\n",
        "    self._name = name\n",
        "    self._x = x\n",
        "    self._y = y\n",
        "    self._visited = False\n",
        "\n",
        "  @property\n",
        "  def name(self):\n",
        "    return self._name\n",
        "\n",
        "  @name.setter\n",
        "  def name(self, name):\n",
        "    self._name = name\n",
        "\n",
        "\n",
        "  @property\n",
        "  def x(self):\n",
        "    return self._x\n",
        "\n",
        "  @x.setter\n",
        "  def x(self, x):\n",
        "    self._x = x\n",
        "\n",
        "\n",
        "  @property\n",
        "  def y(self):\n",
        "    return self._y\n",
        "\n",
        "  @y.setter\n",
        "  def y(self, y):\n",
        "    self._y = y\n",
        "\n",
        "\n",
        "  @property\n",
        "  def visited(self):\n",
        "    return self._visited\n",
        "\n",
        "  @visited.setter\n",
        "  def visited(self, visited):\n",
        "    self._visited = visited"
      ]
    },
    {
      "cell_type": "code",
      "source": [
        "# Define the blueprint of the chromosome object\n",
        "class chromosome:\n",
        "\n",
        "  def __init__(self, fitness, cost=0.0, genes=[]):\n",
        "    self._genes = genes\n",
        "    self._fitness = fitness\n",
        "    self._cost = cost\n",
        "\n",
        "  @property\n",
        "  def fitness(self):\n",
        "    return self._fitness\n",
        "\n",
        "\n",
        "  @fitness.setter\n",
        "  def fitness(self, fitness):\n",
        "    self._fitness = fitness\n",
        "\n",
        "\n",
        "  @property\n",
        "  def cost(self):\n",
        "    return self._cost\n",
        "\n",
        "\n",
        "  @cost.setter\n",
        "  def cost(self, cost):\n",
        "    self._cost = cost\n",
        "\n",
        "\n",
        "  @property\n",
        "  def genes(self):\n",
        "    return self._genes\n",
        "\n",
        "\n",
        "  @genes.setter\n",
        "  def genes(self, genes):\n",
        "    self._genes = genes"
      ],
      "metadata": {
        "id": "tvfgRFeg7eOB"
      },
      "execution_count": 267,
      "outputs": []
    },
    {
      "cell_type": "markdown",
      "source": [
        "## **1. Reading the Data**"
      ],
      "metadata": {
        "id": "3OE9-ktYONNx"
      }
    },
    {
      "cell_type": "code",
      "source": [
        "df = pd.read_csv(\"/content/Data set CSV.csv\")"
      ],
      "metadata": {
        "id": "pYEHY27nMMjt"
      },
      "execution_count": 268,
      "outputs": []
    },
    {
      "cell_type": "code",
      "source": [
        "df.head()"
      ],
      "metadata": {
        "colab": {
          "base_uri": "https://localhost:8080/",
          "height": 206
        },
        "id": "IvGN7We7OFI-",
        "outputId": "6b055fa3-bb4c-4d40-de5b-293664a727dd"
      },
      "execution_count": 269,
      "outputs": [
        {
          "output_type": "execute_result",
          "data": {
            "text/plain": [
              "   City             x             y\n",
              "0     1  5.500000e-08  9.860000e-09\n",
              "1     2 -2.887330e+01 -7.980000e-08\n",
              "2     3 -7.929160e+01 -2.140330e+01\n",
              "3     4 -1.465770e+01 -4.338960e+01\n",
              "4     5 -6.474730e+01  2.189820e+01"
            ],
            "text/html": [
              "\n",
              "  <div id=\"df-d69e1aa1-71d9-4cd9-8c96-b1fa1dd1c00d\" class=\"colab-df-container\">\n",
              "    <div>\n",
              "<style scoped>\n",
              "    .dataframe tbody tr th:only-of-type {\n",
              "        vertical-align: middle;\n",
              "    }\n",
              "\n",
              "    .dataframe tbody tr th {\n",
              "        vertical-align: top;\n",
              "    }\n",
              "\n",
              "    .dataframe thead th {\n",
              "        text-align: right;\n",
              "    }\n",
              "</style>\n",
              "<table border=\"1\" class=\"dataframe\">\n",
              "  <thead>\n",
              "    <tr style=\"text-align: right;\">\n",
              "      <th></th>\n",
              "      <th>City</th>\n",
              "      <th>x</th>\n",
              "      <th>y</th>\n",
              "    </tr>\n",
              "  </thead>\n",
              "  <tbody>\n",
              "    <tr>\n",
              "      <th>0</th>\n",
              "      <td>1</td>\n",
              "      <td>5.500000e-08</td>\n",
              "      <td>9.860000e-09</td>\n",
              "    </tr>\n",
              "    <tr>\n",
              "      <th>1</th>\n",
              "      <td>2</td>\n",
              "      <td>-2.887330e+01</td>\n",
              "      <td>-7.980000e-08</td>\n",
              "    </tr>\n",
              "    <tr>\n",
              "      <th>2</th>\n",
              "      <td>3</td>\n",
              "      <td>-7.929160e+01</td>\n",
              "      <td>-2.140330e+01</td>\n",
              "    </tr>\n",
              "    <tr>\n",
              "      <th>3</th>\n",
              "      <td>4</td>\n",
              "      <td>-1.465770e+01</td>\n",
              "      <td>-4.338960e+01</td>\n",
              "    </tr>\n",
              "    <tr>\n",
              "      <th>4</th>\n",
              "      <td>5</td>\n",
              "      <td>-6.474730e+01</td>\n",
              "      <td>2.189820e+01</td>\n",
              "    </tr>\n",
              "  </tbody>\n",
              "</table>\n",
              "</div>\n",
              "    <div class=\"colab-df-buttons\">\n",
              "\n",
              "  <div class=\"colab-df-container\">\n",
              "    <button class=\"colab-df-convert\" onclick=\"convertToInteractive('df-d69e1aa1-71d9-4cd9-8c96-b1fa1dd1c00d')\"\n",
              "            title=\"Convert this dataframe to an interactive table.\"\n",
              "            style=\"display:none;\">\n",
              "\n",
              "  <svg xmlns=\"http://www.w3.org/2000/svg\" height=\"24px\" viewBox=\"0 -960 960 960\">\n",
              "    <path d=\"M120-120v-720h720v720H120Zm60-500h600v-160H180v160Zm220 220h160v-160H400v160Zm0 220h160v-160H400v160ZM180-400h160v-160H180v160Zm440 0h160v-160H620v160ZM180-180h160v-160H180v160Zm440 0h160v-160H620v160Z\"/>\n",
              "  </svg>\n",
              "    </button>\n",
              "\n",
              "  <style>\n",
              "    .colab-df-container {\n",
              "      display:flex;\n",
              "      gap: 12px;\n",
              "    }\n",
              "\n",
              "    .colab-df-convert {\n",
              "      background-color: #E8F0FE;\n",
              "      border: none;\n",
              "      border-radius: 50%;\n",
              "      cursor: pointer;\n",
              "      display: none;\n",
              "      fill: #1967D2;\n",
              "      height: 32px;\n",
              "      padding: 0 0 0 0;\n",
              "      width: 32px;\n",
              "    }\n",
              "\n",
              "    .colab-df-convert:hover {\n",
              "      background-color: #E2EBFA;\n",
              "      box-shadow: 0px 1px 2px rgba(60, 64, 67, 0.3), 0px 1px 3px 1px rgba(60, 64, 67, 0.15);\n",
              "      fill: #174EA6;\n",
              "    }\n",
              "\n",
              "    .colab-df-buttons div {\n",
              "      margin-bottom: 4px;\n",
              "    }\n",
              "\n",
              "    [theme=dark] .colab-df-convert {\n",
              "      background-color: #3B4455;\n",
              "      fill: #D2E3FC;\n",
              "    }\n",
              "\n",
              "    [theme=dark] .colab-df-convert:hover {\n",
              "      background-color: #434B5C;\n",
              "      box-shadow: 0px 1px 3px 1px rgba(0, 0, 0, 0.15);\n",
              "      filter: drop-shadow(0px 1px 2px rgba(0, 0, 0, 0.3));\n",
              "      fill: #FFFFFF;\n",
              "    }\n",
              "  </style>\n",
              "\n",
              "    <script>\n",
              "      const buttonEl =\n",
              "        document.querySelector('#df-d69e1aa1-71d9-4cd9-8c96-b1fa1dd1c00d button.colab-df-convert');\n",
              "      buttonEl.style.display =\n",
              "        google.colab.kernel.accessAllowed ? 'block' : 'none';\n",
              "\n",
              "      async function convertToInteractive(key) {\n",
              "        const element = document.querySelector('#df-d69e1aa1-71d9-4cd9-8c96-b1fa1dd1c00d');\n",
              "        const dataTable =\n",
              "          await google.colab.kernel.invokeFunction('convertToInteractive',\n",
              "                                                    [key], {});\n",
              "        if (!dataTable) return;\n",
              "\n",
              "        const docLinkHtml = 'Like what you see? Visit the ' +\n",
              "          '<a target=\"_blank\" href=https://colab.research.google.com/notebooks/data_table.ipynb>data table notebook</a>'\n",
              "          + ' to learn more about interactive tables.';\n",
              "        element.innerHTML = '';\n",
              "        dataTable['output_type'] = 'display_data';\n",
              "        await google.colab.output.renderOutput(dataTable, element);\n",
              "        const docLink = document.createElement('div');\n",
              "        docLink.innerHTML = docLinkHtml;\n",
              "        element.appendChild(docLink);\n",
              "      }\n",
              "    </script>\n",
              "  </div>\n",
              "\n",
              "\n",
              "<div id=\"df-b41f3cb5-b80e-45d1-b654-c063efdf78c3\">\n",
              "  <button class=\"colab-df-quickchart\" onclick=\"quickchart('df-b41f3cb5-b80e-45d1-b654-c063efdf78c3')\"\n",
              "            title=\"Suggest charts\"\n",
              "            style=\"display:none;\">\n",
              "\n",
              "<svg xmlns=\"http://www.w3.org/2000/svg\" height=\"24px\"viewBox=\"0 0 24 24\"\n",
              "     width=\"24px\">\n",
              "    <g>\n",
              "        <path d=\"M19 3H5c-1.1 0-2 .9-2 2v14c0 1.1.9 2 2 2h14c1.1 0 2-.9 2-2V5c0-1.1-.9-2-2-2zM9 17H7v-7h2v7zm4 0h-2V7h2v10zm4 0h-2v-4h2v4z\"/>\n",
              "    </g>\n",
              "</svg>\n",
              "  </button>\n",
              "\n",
              "<style>\n",
              "  .colab-df-quickchart {\n",
              "      --bg-color: #E8F0FE;\n",
              "      --fill-color: #1967D2;\n",
              "      --hover-bg-color: #E2EBFA;\n",
              "      --hover-fill-color: #174EA6;\n",
              "      --disabled-fill-color: #AAA;\n",
              "      --disabled-bg-color: #DDD;\n",
              "  }\n",
              "\n",
              "  [theme=dark] .colab-df-quickchart {\n",
              "      --bg-color: #3B4455;\n",
              "      --fill-color: #D2E3FC;\n",
              "      --hover-bg-color: #434B5C;\n",
              "      --hover-fill-color: #FFFFFF;\n",
              "      --disabled-bg-color: #3B4455;\n",
              "      --disabled-fill-color: #666;\n",
              "  }\n",
              "\n",
              "  .colab-df-quickchart {\n",
              "    background-color: var(--bg-color);\n",
              "    border: none;\n",
              "    border-radius: 50%;\n",
              "    cursor: pointer;\n",
              "    display: none;\n",
              "    fill: var(--fill-color);\n",
              "    height: 32px;\n",
              "    padding: 0;\n",
              "    width: 32px;\n",
              "  }\n",
              "\n",
              "  .colab-df-quickchart:hover {\n",
              "    background-color: var(--hover-bg-color);\n",
              "    box-shadow: 0 1px 2px rgba(60, 64, 67, 0.3), 0 1px 3px 1px rgba(60, 64, 67, 0.15);\n",
              "    fill: var(--button-hover-fill-color);\n",
              "  }\n",
              "\n",
              "  .colab-df-quickchart-complete:disabled,\n",
              "  .colab-df-quickchart-complete:disabled:hover {\n",
              "    background-color: var(--disabled-bg-color);\n",
              "    fill: var(--disabled-fill-color);\n",
              "    box-shadow: none;\n",
              "  }\n",
              "\n",
              "  .colab-df-spinner {\n",
              "    border: 2px solid var(--fill-color);\n",
              "    border-color: transparent;\n",
              "    border-bottom-color: var(--fill-color);\n",
              "    animation:\n",
              "      spin 1s steps(1) infinite;\n",
              "  }\n",
              "\n",
              "  @keyframes spin {\n",
              "    0% {\n",
              "      border-color: transparent;\n",
              "      border-bottom-color: var(--fill-color);\n",
              "      border-left-color: var(--fill-color);\n",
              "    }\n",
              "    20% {\n",
              "      border-color: transparent;\n",
              "      border-left-color: var(--fill-color);\n",
              "      border-top-color: var(--fill-color);\n",
              "    }\n",
              "    30% {\n",
              "      border-color: transparent;\n",
              "      border-left-color: var(--fill-color);\n",
              "      border-top-color: var(--fill-color);\n",
              "      border-right-color: var(--fill-color);\n",
              "    }\n",
              "    40% {\n",
              "      border-color: transparent;\n",
              "      border-right-color: var(--fill-color);\n",
              "      border-top-color: var(--fill-color);\n",
              "    }\n",
              "    60% {\n",
              "      border-color: transparent;\n",
              "      border-right-color: var(--fill-color);\n",
              "    }\n",
              "    80% {\n",
              "      border-color: transparent;\n",
              "      border-right-color: var(--fill-color);\n",
              "      border-bottom-color: var(--fill-color);\n",
              "    }\n",
              "    90% {\n",
              "      border-color: transparent;\n",
              "      border-bottom-color: var(--fill-color);\n",
              "    }\n",
              "  }\n",
              "</style>\n",
              "\n",
              "  <script>\n",
              "    async function quickchart(key) {\n",
              "      const quickchartButtonEl =\n",
              "        document.querySelector('#' + key + ' button');\n",
              "      quickchartButtonEl.disabled = true;  // To prevent multiple clicks.\n",
              "      quickchartButtonEl.classList.add('colab-df-spinner');\n",
              "      try {\n",
              "        const charts = await google.colab.kernel.invokeFunction(\n",
              "            'suggestCharts', [key], {});\n",
              "      } catch (error) {\n",
              "        console.error('Error during call to suggestCharts:', error);\n",
              "      }\n",
              "      quickchartButtonEl.classList.remove('colab-df-spinner');\n",
              "      quickchartButtonEl.classList.add('colab-df-quickchart-complete');\n",
              "    }\n",
              "    (() => {\n",
              "      let quickchartButtonEl =\n",
              "        document.querySelector('#df-b41f3cb5-b80e-45d1-b654-c063efdf78c3 button');\n",
              "      quickchartButtonEl.style.display =\n",
              "        google.colab.kernel.accessAllowed ? 'block' : 'none';\n",
              "    })();\n",
              "  </script>\n",
              "</div>\n",
              "\n",
              "    </div>\n",
              "  </div>\n"
            ],
            "application/vnd.google.colaboratory.intrinsic+json": {
              "type": "dataframe",
              "variable_name": "df",
              "summary": "{\n  \"name\": \"df\",\n  \"rows\": 15,\n  \"fields\": [\n    {\n      \"column\": \"City\",\n      \"properties\": {\n        \"dtype\": \"number\",\n        \"std\": 4,\n        \"min\": 1,\n        \"max\": 15,\n        \"num_unique_values\": 15,\n        \"samples\": [\n          10,\n          12,\n          1\n        ],\n        \"semantic_type\": \"\",\n        \"description\": \"\"\n      }\n    },\n    {\n      \"column\": \"x\",\n      \"properties\": {\n        \"dtype\": \"number\",\n        \"std\": 25.037090691331848,\n        \"min\": -79.2916,\n        \"max\": 5.5e-08,\n        \"num_unique_values\": 15,\n        \"samples\": [\n          -50.5859,\n          -65.0866,\n          5.5e-08\n        ],\n        \"semantic_type\": \"\",\n        \"description\": \"\"\n      }\n    },\n    {\n      \"column\": \"y\",\n      \"properties\": {\n        \"dtype\": \"number\",\n        \"std\": 22.44882467037034,\n        \"min\": -43.3896,\n        \"max\": 21.8982,\n        \"num_unique_values\": 15,\n        \"samples\": [\n          -21.5882,\n          -36.0625,\n          9.86e-09\n        ],\n        \"semantic_type\": \"\",\n        \"description\": \"\"\n      }\n    }\n  ]\n}"
            }
          },
          "metadata": {},
          "execution_count": 269
        }
      ]
    },
    {
      "cell_type": "code",
      "source": [
        "df.info()"
      ],
      "metadata": {
        "colab": {
          "base_uri": "https://localhost:8080/"
        },
        "id": "nMO0tDE1OGMQ",
        "outputId": "a4ef26e3-faa4-412c-9d81-a04f95359b8a"
      },
      "execution_count": 270,
      "outputs": [
        {
          "output_type": "stream",
          "name": "stdout",
          "text": [
            "<class 'pandas.core.frame.DataFrame'>\n",
            "RangeIndex: 15 entries, 0 to 14\n",
            "Data columns (total 3 columns):\n",
            " #   Column  Non-Null Count  Dtype  \n",
            "---  ------  --------------  -----  \n",
            " 0   City    15 non-null     int64  \n",
            " 1   x       15 non-null     float64\n",
            " 2   y       15 non-null     float64\n",
            "dtypes: float64(2), int64(1)\n",
            "memory usage: 492.0 bytes\n"
          ]
        }
      ]
    },
    {
      "cell_type": "markdown",
      "source": [
        "## **2. Mapping the Data To Objects**"
      ],
      "metadata": {
        "id": "qBEHTAXzOTd1"
      }
    },
    {
      "cell_type": "code",
      "source": [
        "cities_objects = []     # Initialize an empty cities list\n",
        "\n",
        "# Iterate through each row (city data) in the dataframe\n",
        "for index, row in df.iterrows():\n",
        "  x, y = row['x'], row['y']         # Get city coordinates\n",
        "  name = row['City']                # Get city name\n",
        "  city_obj = city(name, x, y)       # Create city object from the data\n",
        "  cities_objects.append(city_obj)   # Append the city object to the cities"
      ],
      "metadata": {
        "id": "vSfQbdz5OHR6"
      },
      "execution_count": 271,
      "outputs": []
    },
    {
      "cell_type": "code",
      "source": [
        "cities_objects"
      ],
      "metadata": {
        "colab": {
          "base_uri": "https://localhost:8080/"
        },
        "id": "lZiOy_oTPp3Z",
        "outputId": "29bb14e8-bd13-475d-eaa8-3252280a3f99"
      },
      "execution_count": 272,
      "outputs": [
        {
          "output_type": "execute_result",
          "data": {
            "text/plain": [
              "[<__main__.city at 0x7bc18368a710>,\n",
              " <__main__.city at 0x7bc183518490>,\n",
              " <__main__.city at 0x7bc18351b150>,\n",
              " <__main__.city at 0x7bc18368bc50>,\n",
              " <__main__.city at 0x7bc1836a1b90>,\n",
              " <__main__.city at 0x7bc1836a38d0>,\n",
              " <__main__.city at 0x7bc1836a3510>,\n",
              " <__main__.city at 0x7bc1836a2110>,\n",
              " <__main__.city at 0x7bc1836a3690>,\n",
              " <__main__.city at 0x7bc1836a04d0>,\n",
              " <__main__.city at 0x7bc1836a11d0>,\n",
              " <__main__.city at 0x7bc1836a1790>,\n",
              " <__main__.city at 0x7bc1836a1610>,\n",
              " <__main__.city at 0x7bc1836a0990>,\n",
              " <__main__.city at 0x7bc1836a1850>]"
            ]
          },
          "metadata": {},
          "execution_count": 272
        }
      ]
    },
    {
      "cell_type": "markdown",
      "source": [
        "## **3. Get Euclidean Distance Between 2 Cities**"
      ],
      "metadata": {
        "id": "lg1um3sr92Im"
      }
    },
    {
      "cell_type": "code",
      "source": [
        "def get_euc_dist(city_1, city_2):\n",
        "  '''\n",
        "    Args:\n",
        "      city_1 (city) :\n",
        "      city_2 (city) :\n",
        "\n",
        "    Returns:\n",
        "      euc_dist (float) :\n",
        "  '''\n",
        "\n",
        "  euc_dist = np.sqrt((city_1.x - city_2.x)**2 + (city_1.y - city_2.y)**2)\n",
        "\n",
        "  return euc_dist"
      ],
      "metadata": {
        "id": "sxEVSBED99dF"
      },
      "execution_count": 273,
      "outputs": []
    },
    {
      "cell_type": "markdown",
      "source": [
        "## **4. Create The Distance Matrix**"
      ],
      "metadata": {
        "id": "V13XoA6E8ntf"
      }
    },
    {
      "cell_type": "code",
      "source": [
        "def get_distance_matrix(cities_objects):\n",
        "  '''\n",
        "    Args:\n",
        "      cities_objects (list) :\n",
        "\n",
        "    Returns:\n",
        "      distance_matrix (np.array) :\n",
        "  '''\n",
        "\n",
        "  n_cities = len(cities_objects)\n",
        "  distance_matrix = np.zeros(shape=(n_cities, n_cities))\n",
        "\n",
        "  for city_1 in cities_objects:\n",
        "\n",
        "      for city_2 in cities_objects:\n",
        "\n",
        "         distance_matrix[int(city_1.name)-1][int(city_2.name)-1] = get_euc_dist(city_1, city_2)\n",
        "\n",
        "\n",
        "  return distance_matrix"
      ],
      "metadata": {
        "id": "x9X4DUAg8s4t"
      },
      "execution_count": 274,
      "outputs": []
    },
    {
      "cell_type": "code",
      "source": [
        "distance_matrix = get_distance_matrix(cities_objects)"
      ],
      "metadata": {
        "id": "EIXSNvWQ-7zS"
      },
      "execution_count": 275,
      "outputs": []
    },
    {
      "cell_type": "markdown",
      "source": [
        "## **5. Generate the Initial Population**"
      ],
      "metadata": {
        "id": "mUY8uyNIQvDf"
      }
    },
    {
      "cell_type": "code",
      "source": [
        "# Genetic algorithm parameters:\n",
        "population_size = 50\n",
        "generations_count = 100\n",
        "elitism_percentage = 0.02 # 2% of population (mean two chromosomes)\n",
        "crossover_probability = 0.6\n",
        "mutation_probability = 0.1"
      ],
      "metadata": {
        "id": "ymr3iohJ_npR"
      },
      "execution_count": 276,
      "outputs": []
    },
    {
      "cell_type": "code",
      "source": [
        "def get_cost(chosen_chromosome_genes):\n",
        "\n",
        "  '''\n",
        "    Args:\n",
        "      chosen_chromosome_genes (list) : List of all city objects in the dataframe.\n",
        "\n",
        "    Returns:\n",
        "      cost (float): The total cost for the path.\n",
        "  '''\n",
        "\n",
        "  cost = 0\n",
        "\n",
        "  # Get the distance between each 2 consecutive cities\n",
        "  for idx, gene in enumerate(chosen_chromosome_genes[:-1]):\n",
        "      curr_city, next_city = gene, chosen_chromosome_genes[idx+1]\n",
        "      cost += distance_matrix[curr_city][next_city]\n",
        "\n",
        "  # Get Distance Between The Last & First City\n",
        "  first_city, last_city = chosen_chromosome_genes[0], chosen_chromosome_genes[-1]\n",
        "  cost += distance_matrix[first_city][last_city]\n",
        "\n",
        "  return cost"
      ],
      "metadata": {
        "id": "z8oZQdaAUR2s"
      },
      "execution_count": 277,
      "outputs": []
    },
    {
      "cell_type": "code",
      "source": [
        "def generate_initial_population(population_size, cities):\n",
        "\n",
        "  '''\n",
        "    Args:\n",
        "      population_size (int) : The desired size of the population.\n",
        "      cities (list): List of all city objects in the dataframe.\n",
        "\n",
        "    Returns:\n",
        "      initial_population (list): The list containing initial population of chromosomes (routes, and genes represent cities).\n",
        "  '''\n",
        "\n",
        "  initial_population = []         # Initialize a list to store the initial population\n",
        "  n_cities = len(cities)          # Get number of cities (unique genes)\n",
        "  distance_matrix = get_distance_matrix(cities)       # Get the distance matrix for cities\n",
        "  cities_sorted = sorted(cities, key=lambda city : city.name)     # Sort cities by their names (ascending order)\n",
        "\n",
        "  # Generate the initial population\n",
        "  for chromosome_idx in range(population_size):\n",
        "\n",
        "    chosen_chromosome_genes = np.random.permutation(n_cities)     # Get random combination of indices for the genes (our chromosome)\n",
        "    cost = get_cost(chosen_chromosome_genes)      # Get the cost for that chosen chromosome\n",
        "\n",
        "    # Store Chromosome Data\n",
        "    fitness = 1 / cost        # Get the fitness\n",
        "    genes = [cities_sorted[idx] for idx in chosen_chromosome_genes]     # Get the genes of that chromosome (city objects)\n",
        "    chromosome_obj = chromosome(fitness=fitness, cost=cost, genes=genes)      # Form the chromosome object\n",
        "\n",
        "    # Add New Chromosome To our Population\n",
        "    initial_population.append(chromosome_obj)\n",
        "\n",
        "\n",
        "  return initial_population"
      ],
      "metadata": {
        "id": "M9gBkUpLADsg"
      },
      "execution_count": 278,
      "outputs": []
    },
    {
      "cell_type": "code",
      "source": [
        "initial_population = generate_initial_population(population_size, cities_objects)"
      ],
      "metadata": {
        "id": "XQlinyaYBVsz"
      },
      "execution_count": 279,
      "outputs": []
    },
    {
      "cell_type": "code",
      "source": [
        "print('Initial Population Size:', len(initial_population))"
      ],
      "metadata": {
        "colab": {
          "base_uri": "https://localhost:8080/"
        },
        "id": "gQ0siphhI7AX",
        "outputId": "b20d053e-202e-4aa3-8a29-f2e554bc1c79"
      },
      "execution_count": 280,
      "outputs": [
        {
          "output_type": "stream",
          "name": "stdout",
          "text": [
            "Initial Population Size: 50\n"
          ]
        }
      ]
    },
    {
      "cell_type": "markdown",
      "source": [
        "## **6. Elitism**"
      ],
      "metadata": {
        "id": "al-b0u5xQeNW"
      }
    },
    {
      "cell_type": "code",
      "source": [
        "def elitism(population, elitism_percentage):\n",
        "\n",
        "  '''\n",
        "    Args:\n",
        "      population (list) :  The desired population to extract the elites from.\n",
        "      elitism_percentage (float) : The desired percentage of elites.\n",
        "\n",
        "    Returns:\n",
        "      elited_chromosomes (list):  The elited chromosomes.\n",
        "  '''\n",
        "\n",
        "  population_size = len(population)     # The length of the population\n",
        "  n_elited_chromosomes = math.ceil(population_size * elitism_percentage)      # Get number of elited chromosomes\n",
        "  elited_chromosomes = sorted(population, key=lambda chromosome:chromosome.fitness, reverse=True)     # Sort the chromosomes by fitness (descending order)\n",
        "  elited_chromosomes = elited_chromosomes[:n_elited_chromosomes]      # Get the elited chromosomes\n",
        "\n",
        "  return elited_chromosomes"
      ],
      "metadata": {
        "id": "fsfmwGvmJlPs"
      },
      "execution_count": 281,
      "outputs": []
    },
    {
      "cell_type": "code",
      "source": [
        "elited_chromosomes = elitism(initial_population, elitism_percentage)\n",
        "print(elited_chromosomes)"
      ],
      "metadata": {
        "id": "zwKzxFVCM1lY",
        "colab": {
          "base_uri": "https://localhost:8080/"
        },
        "outputId": "2e08da64-1159-4dd6-e863-02614d1d4a21"
      },
      "execution_count": 282,
      "outputs": [
        {
          "output_type": "stream",
          "name": "stdout",
          "text": [
            "[<__main__.chromosome object at 0x7bc18364fe10>]\n"
          ]
        }
      ]
    },
    {
      "cell_type": "markdown",
      "source": [
        "## **7. Selection**"
      ],
      "metadata": {
        "id": "B-CQi861Ntqx"
      }
    },
    {
      "cell_type": "code",
      "source": [
        "def k_tournment_selection(population, k=5):\n",
        "\n",
        "  '''\n",
        "    Args:\n",
        "      population (list) : The desired population to extract the parent from.\n",
        "      k (int) : The size of extracted sample from the population.\n",
        "\n",
        "    Returns:\n",
        "      selected_chromosome (chromosome):  The selected parent chromosome.\n",
        "  '''\n",
        "\n",
        "  population_size = len(population)       # Get the population size\n",
        "  k_selected_chromosomes = []             # Initialize the list to store the samples\n",
        "\n",
        "  # Extract the k samples randomly\n",
        "  selected_indices = np.random.choice(population_size, k, replace=False)\n",
        "  k_selected_chromosomes = [population[idx] for idx in selected_indices]\n",
        "\n",
        "  k_selected_chromosomes = sorted(k_selected_chromosomes, key= lambda chrom : chrom.fitness, reverse=True)      # Sort the chosen samples by fitness (descending order)\n",
        "  selected_chromosome = k_selected_chromosomes[0]         # Get the chromosome with highest fitness as a chosen parent\n",
        "\n",
        "  return selected_chromosome"
      ],
      "metadata": {
        "id": "IvIN4nODNx0U"
      },
      "execution_count": 283,
      "outputs": []
    },
    {
      "cell_type": "code",
      "source": [
        "selected_chromosome = k_tournment_selection(initial_population, k=10)\n",
        "print(selected_chromosome)"
      ],
      "metadata": {
        "id": "tifofEpXOaEK",
        "colab": {
          "base_uri": "https://localhost:8080/"
        },
        "outputId": "8f6ecbda-f900-406c-9287-af6e9e5add81"
      },
      "execution_count": 284,
      "outputs": [
        {
          "output_type": "stream",
          "name": "stdout",
          "text": [
            "<__main__.chromosome object at 0x7bc183524c90>\n"
          ]
        }
      ]
    },
    {
      "cell_type": "markdown",
      "source": [
        "## **8. Crossover**"
      ],
      "metadata": {
        "id": "ZqtAjiKcO-wC"
      }
    },
    {
      "cell_type": "code",
      "source": [
        "def partially_mapped_crossover(cities, population, elitism_percentage, crossover_probability):\n",
        "\n",
        "  '''\n",
        "    Args:\n",
        "      population (list) : The desired population to perform crossover with & form the new generation.\n",
        "      elitism_percentage (float) :  The desired elites percentage.\n",
        "      crossover_probability (float) :  The crossover threshold, beyond it we will keep parents, below it we will form new children.\n",
        "\n",
        "    Returns:\n",
        "      generation_chromosomes (list):  The new generation list with preserved space for elites.\n",
        "  '''\n",
        "\n",
        "  n_population = len(population)    # Get the population size\n",
        "  n_cities = len(population[0].genes)   # Get the number of unique cities (genes)\n",
        "\n",
        "\n",
        "  n_elites = math.ceil(elitism_percentage * n_population)     # Get number of elites\n",
        "  n_crossover = math.ceil((n_population - n_elites) / 2)      # Get the number by which we will perform crossover times\n",
        "  generation_chromosomes = [0] * n_elites               # Initialize the generation list with placeholder for elites\n",
        "\n",
        "\n",
        "  # Produce a genration using partially mapped crossover technique (n_crossover times)\n",
        "  for crossover_time in range(n_crossover):\n",
        "\n",
        "    random_probability = np.random.rand()     # Generate random probability to see if we will perform crossover or not\n",
        "    parent_1 = k_tournment_selection(population, k=5)        # Get first parent\n",
        "    parent_2 = k_tournment_selection(population, k=5)        # Get second parent\n",
        "\n",
        "\n",
        "    # Perform Crossover\n",
        "    if random_probability < crossover_probability:\n",
        "\n",
        "      # Generate random cutoffs\n",
        "      cutoff_1 = np.random.randint(0, n_cities)\n",
        "      cutoff_2 = np.random.randint(0, n_cities)\n",
        "\n",
        "      child_1 = copy.deepcopy(parent_1)       # Initialize the first child\n",
        "      child_2 = copy.deepcopy(parent_2)       # Initialize the second child\n",
        "\n",
        "\n",
        "      # Exchange the desired part\n",
        "      if cutoff_1 > cutoff_2:\n",
        "        cutoff_1, cutoff_2 = cutoff_2, cutoff_1\n",
        "\n",
        "      for parent_idx in range(cutoff_1, cutoff_2 + 1):\n",
        "\n",
        "        val_1 , val_2 = parent_1.genes[parent_idx], parent_2.genes[parent_idx]        # Get the items (cities) in the middle part for both parents item by item\n",
        "        child_1_desired_idx, child_2_desired_idx = 0, 0\n",
        "\n",
        "        # Search for the items (cities) to exchange\n",
        "        for child_idx, zipped_genes in enumerate(zip(child_1.genes, child_2.genes)):\n",
        "\n",
        "          gene_1, gene_2 = zipped_genes\n",
        "          if gene_1.name == val_2.name:\n",
        "            child_1_desired_idx = child_idx\n",
        "            child_1.genes[child_1_desired_idx] = val_1\n",
        "\n",
        "\n",
        "          if gene_2.name == val_1.name:\n",
        "            child_2_desired_idx = child_idx\n",
        "            child_2.genes[child_2_desired_idx] = val_2\n",
        "\n",
        "\n",
        "        child_1.genes[parent_idx] = val_2\n",
        "        child_2.genes[parent_idx] = val_1\n",
        "\n",
        "\n",
        "      # Evaluate Child 1 cost & fitness\n",
        "      child_1_genes_indices = [int(gene.name)-1 for gene in child_1.genes]\n",
        "      child_1.cost = get_cost(child_1_genes_indices)\n",
        "      child_1.fitness = 1 / child_1.cost\n",
        "\n",
        "      # Evaluate Child 2 cost & fitness\n",
        "      child_2_genes_indices = [int(gene.name)-1 for gene in child_2.genes]\n",
        "      child_2.cost = get_cost(child_2_genes_indices)\n",
        "      child_2.fitness = 1 / child_2.cost\n",
        "\n",
        "\n",
        "      # Append the newly generated children\n",
        "      generation_chromosomes.append(child_1)\n",
        "      generation_chromosomes.append(child_2)\n",
        "\n",
        "    # Leave Children as they are\n",
        "    else:\n",
        "      generation_chromosomes.append(parent_1)\n",
        "      generation_chromosomes.append(parent_2)\n",
        "\n",
        "\n",
        "    # Make sure that no overflow happens\n",
        "    while (len(generation_chromosomes) > n_population):\n",
        "      generation_chromosomes.pop()\n",
        "\n",
        "  return generation_chromosomes"
      ],
      "metadata": {
        "id": "UfZKeQQ9PDKM"
      },
      "execution_count": 285,
      "outputs": []
    },
    {
      "cell_type": "code",
      "source": [
        "generation_chromosomes = partially_mapped_crossover(cities_objects, initial_population, elitism_percentage, crossover_probability)\n",
        "print(len(generation_chromosomes), 'Generated Chromosomes:\\n', generation_chromosomes)"
      ],
      "metadata": {
        "colab": {
          "base_uri": "https://localhost:8080/"
        },
        "id": "HoGvxLXkbKze",
        "outputId": "e32fe64d-4dbd-46f4-a228-0ecaaafe2486"
      },
      "execution_count": 286,
      "outputs": [
        {
          "output_type": "stream",
          "name": "stdout",
          "text": [
            "50 Generated Chromosomes:\n",
            " [0, <__main__.chromosome object at 0x7bc198130390>, <__main__.chromosome object at 0x7bc1836a2650>, <__main__.chromosome object at 0x7bc18364cf50>, <__main__.chromosome object at 0x7bc183524c90>, <__main__.chromosome object at 0x7bc18352fbd0>, <__main__.chromosome object at 0x7bc183519dd0>, <__main__.chromosome object at 0x7bc19812cb90>, <__main__.chromosome object at 0x7bc183637bd0>, <__main__.chromosome object at 0x7bc1836a0c10>, <__main__.chromosome object at 0x7bc183518150>, <__main__.chromosome object at 0x7bc1836ea250>, <__main__.chromosome object at 0x7bc183708850>, <__main__.chromosome object at 0x7bc18351a290>, <__main__.chromosome object at 0x7bc183709dd0>, <__main__.chromosome object at 0x7bc18364cf50>, <__main__.chromosome object at 0x7bc183519dd0>, <__main__.chromosome object at 0x7bc1836353d0>, <__main__.chromosome object at 0x7bc183709cd0>, <__main__.chromosome object at 0x7bc1836eb050>, <__main__.chromosome object at 0x7bc1836f6c50>, <__main__.chromosome object at 0x7bc18364fe10>, <__main__.chromosome object at 0x7bc183524c90>, <__main__.chromosome object at 0x7bc1836b3590>, <__main__.chromosome object at 0x7bc1836f4fd0>, <__main__.chromosome object at 0x7bc18352cc90>, <__main__.chromosome object at 0x7bc18352cc90>, <__main__.chromosome object at 0x7bc183526d10>, <__main__.chromosome object at 0x7bc18364cf50>, <__main__.chromosome object at 0x7bc1835244d0>, <__main__.chromosome object at 0x7bc183519dd0>, <__main__.chromosome object at 0x7bc18364c810>, <__main__.chromosome object at 0x7bc18352cc90>, <__main__.chromosome object at 0x7bc18352d950>, <__main__.chromosome object at 0x7bc18352e250>, <__main__.chromosome object at 0x7bc18368ad10>, <__main__.chromosome object at 0x7bc18368a550>, <__main__.chromosome object at 0x7bc183519dd0>, <__main__.chromosome object at 0x7bc18352fbd0>, <__main__.chromosome object at 0x7bc198a45f90>, <__main__.chromosome object at 0x7bc1836f4a90>, <__main__.chromosome object at 0x7bc18370a290>, <__main__.chromosome object at 0x7bc18363f3d0>, <__main__.chromosome object at 0x7bc18352cc90>, <__main__.chromosome object at 0x7bc183519210>, <__main__.chromosome object at 0x7bc183519dd0>, <__main__.chromosome object at 0x7bc18352d950>, <__main__.chromosome object at 0x7bc183634b90>, <__main__.chromosome object at 0x7bc18363d950>, <__main__.chromosome object at 0x7bc18363f790>]\n"
          ]
        }
      ]
    },
    {
      "cell_type": "markdown",
      "source": [
        "## **9. Mutation**"
      ],
      "metadata": {
        "id": "cIWaFRQCNm7O"
      }
    },
    {
      "cell_type": "code",
      "source": [
        "def swap_mutation(population, elitism_percentage, mutation_probability):\n",
        "\n",
        "  '''\n",
        "    Args:\n",
        "      population (list) : The desired population to perform crossover with & form the new generation.\n",
        "      elitism_percentage (float) :\n",
        "      mutation_probability (float) : The mutation threshold, below this threshold mutate the chosen random chromosome, below it leave it as it is.\n",
        "\n",
        "    Returns:\n",
        "      None\n",
        "  '''\n",
        "\n",
        "  n_population = len(population)        # Get the size of the population\n",
        "  n_cities = len(population[0].genes)     # Get the number of the unique cities (genes)\n",
        "  n_elites = math.ceil(n_population * elitism_percentage)       # Get the number of elites to preserve\n",
        "\n",
        "\n",
        "  # Iterate (n_population - n_elites) times and get a random chromosome each time\n",
        "  for chrom in range(n_population - n_elites):\n",
        "\n",
        "    random_parent_idx = np.random.randint(n_elites, n_population)   # Generate a random index\n",
        "    parent_chromosome = population[random_parent_idx]               # Get the chromosome associated with that random index\n",
        "\n",
        "    random_probability = np.random.rand()       # Generate a random probability\n",
        "\n",
        "\n",
        "    # Perform swap mutation on that randomly chosen chromosome\n",
        "    if (random_probability < mutation_probability):\n",
        "\n",
        "      # Generate the random indices to be swapped\n",
        "      random_idx_1 = np.random.randint(n_cities)\n",
        "      random_idx_2 = np.random.randint(n_cities)\n",
        "\n",
        "      # Create the new mutated object to be\n",
        "      new_parent_chromosome = copy.deepcopy(parent_chromosome)\n",
        "\n",
        "      # Perform Swapping\n",
        "      new_parent_chromosome.genes[random_idx_1] = parent_chromosome.genes[random_idx_2]\n",
        "      new_parent_chromosome.genes[random_idx_2] = parent_chromosome.genes[random_idx_1]\n",
        "\n",
        "      # Evaluate New cost & fitness\n",
        "      new_parent_genes_indices = [int(gene.name)-1 for gene in new_parent_chromosome.genes]\n",
        "      new_parent_chromosome.cost = get_cost(new_parent_genes_indices)\n",
        "      new_parent_chromosome.fitness = 1 / new_parent_chromosome.cost\n",
        "\n",
        "      # Replace the parent chromosome with the mutated one\n",
        "      population[random_parent_idx] = new_parent_chromosome"
      ],
      "metadata": {
        "id": "6RG1vZKMg1Nb"
      },
      "execution_count": 287,
      "outputs": []
    },
    {
      "cell_type": "code",
      "source": [
        "swap_mutation(initial_population, elitism_percentage, mutation_probability)"
      ],
      "metadata": {
        "id": "anQUPEzcSnng"
      },
      "execution_count": 288,
      "outputs": []
    },
    {
      "cell_type": "markdown",
      "source": [
        "## **10. Genetic Algorithm**"
      ],
      "metadata": {
        "id": "7oWJGmvtTAhK"
      }
    },
    {
      "cell_type": "code",
      "source": [
        "def genetic_algorithm(cities_objects, population_size, generations_count, elitism_percentage, crossover_probability, mutation_probability):\n",
        "\n",
        "  '''\n",
        "    Args:\n",
        "      cities_objects (list) : The list containing the city objects.\n",
        "      population_size (int) : The desired size of the population.\n",
        "      generations_count (int) : The desired number of generations we update (stopping criterion).\n",
        "      elitism_percentage (float) :  The desired elites percentage.\n",
        "      crossover_probability (float) :  The crossover threshold, beyond it we will keep parents, below it we will form new children.\n",
        "      mutation_probability (float) :  The mutation threshold, below this threshold mutate the chosen random chromosome, below it leave it as it is.\n",
        "\n",
        "    Returns:\n",
        "      fittest_chrmosome (chromosome) :  The chromosome with the highest fitness in the final generation.\n",
        "  '''\n",
        "\n",
        "  # Get the initial population\n",
        "  initial_population = generate_initial_population(population_size, cities_objects)\n",
        "\n",
        "\n",
        "  # Print Initial Cost\n",
        "  sorted_chrmosomes = sorted(initial_population, key=lambda chromosome : chromosome.fitness, reverse=True)   # Sort the chromosomes by fitness\n",
        "  fittest_chrmosome = sorted_chrmosomes[0]    # Get the fittest chromosome\n",
        "  print('Initial Cost: ', fittest_chrmosome.cost)\n",
        "\n",
        "\n",
        "  # Get the unique city objects (genes)\n",
        "  unique_genes = initial_population[0].genes\n",
        "\n",
        "  # Initialize an empty list to store the new generation\n",
        "  new_generation = []\n",
        "\n",
        "  # Get the number of expected elites\n",
        "  n_elites = math.ceil(elitism_percentage * population_size)\n",
        "\n",
        "  # Create various generations (generations_count times)\n",
        "  for generation in range(generations_count):\n",
        "\n",
        "    elited_chromosomes = elitism(initial_population, elitism_percentage)      # Get the elited chromosomes\n",
        "    new_generation = partially_mapped_crossover(cities_objects, initial_population, elitism_percentage, crossover_probability)        # Perform crossover to generate the new generation list\n",
        "    new_generation[:n_elites] = elited_chromosomes              # Place the elited chromosomes in their respective place in the new generation list\n",
        "    swap_mutation(new_generation, elitism_percentage, mutation_probability)         # Mutate the new generation list\n",
        "    initial_population = new_generation             # Replace the initial population (parents) with the new generation\n",
        "\n",
        "\n",
        "  sorted_chrmosomes = sorted(initial_population, key=lambda chromosome : chromosome.fitness, reverse=True)   # Sort the chromosomes by fitness\n",
        "  fittest_chrmosome = sorted_chrmosomes[0]    # Get the fittest chromosome\n",
        "\n",
        "\n",
        "  return fittest_chrmosome"
      ],
      "metadata": {
        "id": "kvAQF6yqS9iC"
      },
      "execution_count": 291,
      "outputs": []
    },
    {
      "cell_type": "code",
      "source": [
        "fittest_chrmosome = genetic_algorithm(cities_objects, population_size, generations_count, elitism_percentage, crossover_probability, mutation_probability)\n",
        "print('Final Cost: ', fittest_chrmosome.cost)     # Print Final Cost"
      ],
      "metadata": {
        "colab": {
          "base_uri": "https://localhost:8080/"
        },
        "id": "Effl4gKiUDyf",
        "outputId": "6ad9c7fc-963b-48f5-b96a-9d58323dc87c"
      },
      "execution_count": 290,
      "outputs": [
        {
          "output_type": "stream",
          "name": "stdout",
          "text": [
            "Initial Cost:  423.7806277362588\n",
            "Final Cost:  284.38103676026583\n"
          ]
        }
      ]
    }
  ]
}